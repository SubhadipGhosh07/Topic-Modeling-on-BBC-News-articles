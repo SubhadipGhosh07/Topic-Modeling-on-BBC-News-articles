{
  "nbformat": 4,
  "nbformat_minor": 0,
  "metadata": {
    "kernelspec": {
      "display_name": "Python 3",
      "language": "python",
      "name": "python3"
    },
    "language_info": {
      "codemirror_mode": {
        "name": "ipython",
        "version": 3
      },
      "file_extension": ".py",
      "mimetype": "text/x-python",
      "name": "python",
      "nbconvert_exporter": "python",
      "pygments_lexer": "ipython3",
      "version": "3.8.8"
    },
    "colab": {
      "name": "Topic Modeling on News articles.ipynb",
      "provenance": [],
      "include_colab_link": true
    }
  },
  "cells": [
    {
      "cell_type": "markdown",
      "metadata": {
        "id": "view-in-github",
        "colab_type": "text"
      },
      "source": [
        "<a href=\"https://colab.research.google.com/github/SubhadipGhosh07/Topic-Modeling-on-BBC-News-articles/blob/main/Topic_Modeling_on_News_articles.ipynb\" target=\"_parent\"><img src=\"https://colab.research.google.com/assets/colab-badge.svg\" alt=\"Open In Colab\"/></a>"
      ]
    },
    {
      "cell_type": "markdown",
      "metadata": {
        "id": "PX8wbPxwPMFS"
      },
      "source": [
        "# <b><u>Project Title : Extraction/identification of major topics & themes discussed in news articles</u></b>\n",
        "\n",
        "## <b>Problem Description:</b>\n",
        "\n",
        "In this project we have to identify major themes/topics across a collection of BBC news articles. \n",
        "\n",
        "## <b>Data Description </b>\n",
        " We have been provided with news articles for each major segment consisting of business, entertainment, politics, sports and technology. We need to create an aggregate dataset of all the news articles and perform topic modeling on this dataset. We will be verifying whether these topics correspond to the different tags available.\n",
        " \n",
        " \n",
        "### <b><u>Dataset Courtsey:</u></b>\n",
        " Publication: \n",
        "- D. Greene and P. Cunningham. \"Practical Solutions to the Problem of Diagonal Dominance in Kernel Document Clustering\", Proc. ICML 2006.\n",
        "\n",
        "All rights, including copyright, in the content of the original articles are owned by the BBC.\n"
      ]
    },
    {
      "cell_type": "markdown",
      "metadata": {
        "id": "q3EOwBu8PMFk"
      },
      "source": [
        "## <b>Importing Libraries</b>"
      ]
    },
    {
      "cell_type": "code",
      "metadata": {
        "id": "YMh0f_snPMFm"
      },
      "source": [
        "import numpy as np\n",
        "import pandas as pd\n",
        "import os\n",
        "pd.set_option('max_colwidth', 150)\n",
        "import matplotlib.pyplot as plt\n",
        "%matplotlib inline\n",
        "plt.style.use(\"seaborn-whitegrid\")\n",
        "import seaborn as sns\n",
        "import warnings\n",
        "warnings.filterwarnings(\"ignore\")"
      ],
      "execution_count": null,
      "outputs": []
    },
    {
      "cell_type": "markdown",
      "metadata": {
        "id": "MuqtyYgaPMFn"
      },
      "source": [
        "## <b>Extracting docs of BBC news articles on various agendas: </b>\n",
        "* We have been given a collection of documents from BBC News\n",
        "* The documents correspond to business news, sports articles, films and many more.\n",
        "* We will be aggregating all the documents in a single dataset"
      ]
    },
    {
      "cell_type": "code",
      "metadata": {
        "id": "FXDcRhlwPMFo"
      },
      "source": [
        "# Extracting news from business articles\n",
        "entries = os.listdir(r'C:\\project docs\\business/')\n",
        "business_l = []\n",
        "for op in entries:\n",
        "    with open(r'C:\\project docs\\business\\{}'.format(op)) as f:\n",
        "        business_l.append(f.read())"
      ],
      "execution_count": null,
      "outputs": []
    },
    {
      "cell_type": "code",
      "metadata": {
        "id": "1nMb8cPIPMFp"
      },
      "source": [
        "# Extracting news from entertainment articles\n",
        "ent = os.listdir(r'C:\\project docs\\entertainment/')\n",
        "entertainment_l = []\n",
        "for en in ent:\n",
        "    with open(r'C:\\project docs\\entertainment\\{}'.format(en)) as f:\n",
        "        entertainment_l.append(f.read())"
      ],
      "execution_count": null,
      "outputs": []
    },
    {
      "cell_type": "code",
      "metadata": {
        "id": "Gu7qVOQyPMFq"
      },
      "source": [
        "# Extracting news from sports articles\n",
        "sports = os.listdir(r'C:\\project docs\\sport/')\n",
        "sports_l = []\n",
        "for sp in sports:\n",
        "    with open(r'C:\\project docs\\sport\\{}'.format(sp)) as f:\n",
        "        sports_l.append(f.read())"
      ],
      "execution_count": null,
      "outputs": []
    },
    {
      "cell_type": "code",
      "metadata": {
        "id": "7HeCxHGbPMFr"
      },
      "source": [
        "# Extracting news from technology articles\n",
        "tech = os.listdir(r'C:\\project docs\\tech/')\n",
        "tech_l = []\n",
        "for tc in tech:\n",
        "    with open(r'C:\\project docs\\tech\\{}'.format(tc)) as f:\n",
        "        tech_l.append(f.read())"
      ],
      "execution_count": null,
      "outputs": []
    },
    {
      "cell_type": "code",
      "metadata": {
        "id": "7lYdcd-hPMFs"
      },
      "source": [
        "# Extracting news from technology articles\n",
        "pol = os.listdir(r'C:\\project docs\\politics/')\n",
        "pol_l = []\n",
        "for pl in pol:\n",
        "    with open(r'C:\\project docs\\politics\\{}'.format(pl)) as f:\n",
        "        pol_l.append(f.read())"
      ],
      "execution_count": null,
      "outputs": []
    },
    {
      "cell_type": "markdown",
      "metadata": {
        "id": "ht8VP-jGPMFt"
      },
      "source": [
        "### <b>Aggregating the lists into a single DataFrame:</b>\n",
        "* We will be creating a dataset naming it 'bbc_news' and aggregate all the previous documnets\n",
        "* We will be re-sampling them to make them appear in a more random way in our dataset"
      ]
    },
    {
      "cell_type": "code",
      "metadata": {
        "id": "34N03cZ7PMFu",
        "outputId": "4ed1c328-9875-4a19-f9e6-faf69847712f"
      },
      "source": [
        "# ---------> Creating a dataset bbc_news \n",
        "bbc_news = pd.DataFrame()\n",
        "# ---------> Aggregating all the docs together\n",
        "bbc_news['Articles'] = business_l + entertainment_l + sports_l + tech_l + pol_l\n",
        "bbc_news.shape"
      ],
      "execution_count": null,
      "outputs": [
        {
          "output_type": "execute_result",
          "data": {
            "text/plain": [
              "(2225, 1)"
            ]
          },
          "metadata": {
            "tags": []
          },
          "execution_count": 7
        }
      ]
    },
    {
      "cell_type": "code",
      "metadata": {
        "id": "n1ZN0r1APMFx",
        "outputId": "cc08c1e8-1f1b-4280-abbc-27e73bdbacf6"
      },
      "source": [
        "# ---------> Datset formed\n",
        "bbc_news.head()"
      ],
      "execution_count": null,
      "outputs": [
        {
          "output_type": "execute_result",
          "data": {
            "text/html": [
              "<div>\n",
              "<style scoped>\n",
              "    .dataframe tbody tr th:only-of-type {\n",
              "        vertical-align: middle;\n",
              "    }\n",
              "\n",
              "    .dataframe tbody tr th {\n",
              "        vertical-align: top;\n",
              "    }\n",
              "\n",
              "    .dataframe thead th {\n",
              "        text-align: right;\n",
              "    }\n",
              "</style>\n",
              "<table border=\"1\" class=\"dataframe\">\n",
              "  <thead>\n",
              "    <tr style=\"text-align: right;\">\n",
              "      <th></th>\n",
              "      <th>Articles</th>\n",
              "    </tr>\n",
              "  </thead>\n",
              "  <tbody>\n",
              "    <tr>\n",
              "      <th>0</th>\n",
              "      <td>Ad sales boost Time Warner profit\\n\\nQuarterly profits at US media giant TimeWarner jumped 76% to $1.13bn (Â£600m) for the three months to Decembe...</td>\n",
              "    </tr>\n",
              "    <tr>\n",
              "      <th>1</th>\n",
              "      <td>Dollar gains on Greenspan speech\\n\\nThe dollar has hit its highest level against the euro in almost three months after the Federal Reserve head sa...</td>\n",
              "    </tr>\n",
              "    <tr>\n",
              "      <th>2</th>\n",
              "      <td>Yukos unit buyer faces loan claim\\n\\nThe owners of embattled Russian oil giant Yukos are to ask the buyer of its former production unit to pay bac...</td>\n",
              "    </tr>\n",
              "    <tr>\n",
              "      <th>3</th>\n",
              "      <td>High fuel prices hit BA's profits\\n\\nBritish Airways has blamed high fuel prices for a 40% drop in profits.\\n\\nReporting its results for the three...</td>\n",
              "    </tr>\n",
              "    <tr>\n",
              "      <th>4</th>\n",
              "      <td>Pernod takeover talk lifts Domecq\\n\\nShares in UK drinks and food firm Allied Domecq have risen on speculation that it could be the target of a ta...</td>\n",
              "    </tr>\n",
              "  </tbody>\n",
              "</table>\n",
              "</div>"
            ],
            "text/plain": [
              "                                                                                                                                                Articles\n",
              "0  Ad sales boost Time Warner profit\\n\\nQuarterly profits at US media giant TimeWarner jumped 76% to $1.13bn (Â£600m) for the three months to Decembe...\n",
              "1  Dollar gains on Greenspan speech\\n\\nThe dollar has hit its highest level against the euro in almost three months after the Federal Reserve head sa...\n",
              "2  Yukos unit buyer faces loan claim\\n\\nThe owners of embattled Russian oil giant Yukos are to ask the buyer of its former production unit to pay bac...\n",
              "3  High fuel prices hit BA's profits\\n\\nBritish Airways has blamed high fuel prices for a 40% drop in profits.\\n\\nReporting its results for the three...\n",
              "4  Pernod takeover talk lifts Domecq\\n\\nShares in UK drinks and food firm Allied Domecq have risen on speculation that it could be the target of a ta..."
            ]
          },
          "metadata": {
            "tags": []
          },
          "execution_count": 8
        }
      ]
    },
    {
      "cell_type": "code",
      "metadata": {
        "id": "jJ-ojMTvPMFy"
      },
      "source": [
        "# ---------> Re-Sampling our dataset\n",
        "bbc_df = bbc_news.sample(bbc_news.shape[0])\n",
        "bbc_df = bbc_df.reset_index()\n",
        "bbc_df.drop('index', axis =1, inplace = True)"
      ],
      "execution_count": null,
      "outputs": []
    },
    {
      "cell_type": "code",
      "metadata": {
        "id": "Mh_TprK3PMFz",
        "outputId": "66bb71b0-dca2-4693-8414-b59b2920c040"
      },
      "source": [
        "# ---------> Let's check how our final dataset looks like\n",
        "bbc_df.head(10)"
      ],
      "execution_count": null,
      "outputs": [
        {
          "output_type": "execute_result",
          "data": {
            "text/html": [
              "<div>\n",
              "<style scoped>\n",
              "    .dataframe tbody tr th:only-of-type {\n",
              "        vertical-align: middle;\n",
              "    }\n",
              "\n",
              "    .dataframe tbody tr th {\n",
              "        vertical-align: top;\n",
              "    }\n",
              "\n",
              "    .dataframe thead th {\n",
              "        text-align: right;\n",
              "    }\n",
              "</style>\n",
              "<table border=\"1\" class=\"dataframe\">\n",
              "  <thead>\n",
              "    <tr style=\"text-align: right;\">\n",
              "      <th></th>\n",
              "      <th>Articles</th>\n",
              "    </tr>\n",
              "  </thead>\n",
              "  <tbody>\n",
              "    <tr>\n",
              "      <th>0</th>\n",
              "      <td>Robinson wants dual code success\\n\\nEngland rugby union captain Jason Robinson has targeted dual code success over Australia on Saturday.\\n\\nRobin...</td>\n",
              "    </tr>\n",
              "    <tr>\n",
              "      <th>1</th>\n",
              "      <td>EMI shares hit by profit warning\\n\\nShares in music giant EMI have sunk by more than 16% after the firm issued a profit warning following disappoi...</td>\n",
              "    </tr>\n",
              "    <tr>\n",
              "      <th>2</th>\n",
              "      <td>Parmalat sues 45 banks over crash\\n\\nParmalat has sued 45 banks as it tries to reclaim money paid to banks before the scandal-hit Italian dairy co...</td>\n",
              "    </tr>\n",
              "    <tr>\n",
              "      <th>3</th>\n",
              "      <td>Lewis-Francis eyeing world gold\\n\\nMark Lewis-Francis says his Olympic success has made him determined to bag World Championship 100m gold in 2005...</td>\n",
              "    </tr>\n",
              "    <tr>\n",
              "      <th>4</th>\n",
              "      <td>Gardener battles to narrow win\\n\\nJason Gardener fought all the way to the line to narrowly claim the men's 60m title at the Norwich Union Indoor ...</td>\n",
              "    </tr>\n",
              "    <tr>\n",
              "      <th>5</th>\n",
              "      <td>Singer Ferguson 'facing eviction'\\n\\nThree Degrees star Sheila Ferguson is the favourite to be evicted from ITV's I'm A Celebrity... Get Me Out Of...</td>\n",
              "    </tr>\n",
              "    <tr>\n",
              "      <th>6</th>\n",
              "      <td>Latest Opera browser gets vocal\\n\\nNet browser Opera 8.0, due for official release at the end of next month, will be \"the most accessible browser ...</td>\n",
              "    </tr>\n",
              "    <tr>\n",
              "      <th>7</th>\n",
              "      <td>Healey targets England comeback\\n\\nLeicester wing Austin Healey hopes to use Sunday's return Heineken Cup clash with Wasps as a further springboar...</td>\n",
              "    </tr>\n",
              "    <tr>\n",
              "      <th>8</th>\n",
              "      <td>Royal couple watch nation's mood\\n\\nPrince Charles and Camilla Parker Bowles are awaiting the nation's reaction after announcing they are to be ma...</td>\n",
              "    </tr>\n",
              "    <tr>\n",
              "      <th>9</th>\n",
              "      <td>Lloyd's of London head chides FSA\\n\\nThe head of Lloyd's of London, the insurance market, has criticised Britain's financial watchdog, the Financi...</td>\n",
              "    </tr>\n",
              "  </tbody>\n",
              "</table>\n",
              "</div>"
            ],
            "text/plain": [
              "                                                                                                                                                Articles\n",
              "0  Robinson wants dual code success\\n\\nEngland rugby union captain Jason Robinson has targeted dual code success over Australia on Saturday.\\n\\nRobin...\n",
              "1  EMI shares hit by profit warning\\n\\nShares in music giant EMI have sunk by more than 16% after the firm issued a profit warning following disappoi...\n",
              "2  Parmalat sues 45 banks over crash\\n\\nParmalat has sued 45 banks as it tries to reclaim money paid to banks before the scandal-hit Italian dairy co...\n",
              "3  Lewis-Francis eyeing world gold\\n\\nMark Lewis-Francis says his Olympic success has made him determined to bag World Championship 100m gold in 2005...\n",
              "4  Gardener battles to narrow win\\n\\nJason Gardener fought all the way to the line to narrowly claim the men's 60m title at the Norwich Union Indoor ...\n",
              "5  Singer Ferguson 'facing eviction'\\n\\nThree Degrees star Sheila Ferguson is the favourite to be evicted from ITV's I'm A Celebrity... Get Me Out Of...\n",
              "6  Latest Opera browser gets vocal\\n\\nNet browser Opera 8.0, due for official release at the end of next month, will be \"the most accessible browser ...\n",
              "7  Healey targets England comeback\\n\\nLeicester wing Austin Healey hopes to use Sunday's return Heineken Cup clash with Wasps as a further springboar...\n",
              "8  Royal couple watch nation's mood\\n\\nPrince Charles and Camilla Parker Bowles are awaiting the nation's reaction after announcing they are to be ma...\n",
              "9  Lloyd's of London head chides FSA\\n\\nThe head of Lloyd's of London, the insurance market, has criticised Britain's financial watchdog, the Financi..."
            ]
          },
          "metadata": {
            "tags": []
          },
          "execution_count": 10
        }
      ]
    },
    {
      "cell_type": "code",
      "metadata": {
        "id": "IcSUaubDPMF0"
      },
      "source": [
        "# ---------> Creating a copy of our dataset\n",
        "bbc_copy = bbc_df.copy()"
      ],
      "execution_count": null,
      "outputs": []
    },
    {
      "cell_type": "code",
      "metadata": {
        "id": "Qfpa78u8PMF1"
      },
      "source": [
        "# ---------> Importing Libraries\n",
        "import nltk\n",
        "import re\n",
        "import string\n",
        "from sklearn.feature_extraction.text import TfidfVectorizer\n",
        "from sklearn.feature_extraction.text import CountVectorizer\n",
        "from nltk.corpus import stopwords\n",
        "from collections import Counter\n",
        "from nltk.stem.porter import PorterStemmer\n",
        "from nltk.stem import WordNetLemmatizer\n",
        "from textblob import TextBlob\n",
        "lm = WordNetLemmatizer()"
      ],
      "execution_count": null,
      "outputs": []
    },
    {
      "cell_type": "markdown",
      "metadata": {
        "id": "TlVUSBfhPMF2"
      },
      "source": [
        "## <b>Text-Preprocessing and Tokenization:</b>\n",
        "* Removing Numerical values and punctuations\n",
        "* Removing stop-words\n",
        "* Tokenizing the words using Lemmatization\n",
        "* Extracting out only the noun phrases using TextBlob"
      ]
    },
    {
      "cell_type": "code",
      "metadata": {
        "id": "ZHG5J7EUPMF5"
      },
      "source": [
        "def rem_unwanted(article):\n",
        "    modify = re.sub(\"[^a-zA-Z]\",' ',article) #Keeping only alphabets in our corpus\n",
        "    modify = modify.lower()                  #Coonverting into lower case\n",
        "    modify= ' '.join([lm.lemmatize(word) for word in modify.split() if word not in stopwords.words(\"english\")])\n",
        "    text_blob_object = TextBlob(modify)\n",
        "#     choosing only the noun phrases from our corpus\n",
        "    b = text_blob_object.noun_phrases\n",
        "    return ' '.join(b)"
      ],
      "execution_count": null,
      "outputs": []
    },
    {
      "cell_type": "code",
      "metadata": {
        "id": "XdlWWMU9PMF7",
        "outputId": "8f9763b1-bebc-46cc-fbff-7abc48be7414"
      },
      "source": [
        "bbc_copy['Articles'] = bbc_copy['Articles'].apply(rem_unwanted)\n",
        "bbc_copy.head()"
      ],
      "execution_count": null,
      "outputs": [
        {
          "output_type": "execute_result",
          "data": {
            "text/html": [
              "<div>\n",
              "<style scoped>\n",
              "    .dataframe tbody tr th:only-of-type {\n",
              "        vertical-align: middle;\n",
              "    }\n",
              "\n",
              "    .dataframe tbody tr th {\n",
              "        vertical-align: top;\n",
              "    }\n",
              "\n",
              "    .dataframe thead th {\n",
              "        text-align: right;\n",
              "    }\n",
              "</style>\n",
              "<table border=\"1\" class=\"dataframe\">\n",
              "  <thead>\n",
              "    <tr style=\"text-align: right;\">\n",
              "      <th></th>\n",
              "      <th>Articles</th>\n",
              "    </tr>\n",
              "  </thead>\n",
              "  <tbody>\n",
              "    <tr>\n",
              "      <th>0</th>\n",
              "      <td>dual code success england rugby union captain jason robinson dual code success australia saturday robinson rugby league code lead england australi...</td>\n",
              "    </tr>\n",
              "    <tr>\n",
              "      <th>1</th>\n",
              "      <td>emi share profit warning share music giant emi sunk firm profit warning disappointing sale delay album release emi music sale year march fall year...</td>\n",
              "    </tr>\n",
              "    <tr>\n",
              "      <th>2</th>\n",
              "      <td>bank crash parmalat reclaim money bank scandal italian dairy company year firm debt bn euro bn bn new bos enrico bondi legal action number lender ...</td>\n",
              "    </tr>\n",
              "    <tr>\n",
              "      <th>3</th>\n",
              "      <td>lewis francis gold mark lewis francis olympic success bag world championship gold year maurice greene leg x relay athens top honour team gb birchf...</td>\n",
              "    </tr>\n",
              "    <tr>\n",
              "      <th>4</th>\n",
              "      <td>gardener battle jason gardener way line claim men title norwich union indoor trial aaa championship world champion mark findlay darren chin block ...</td>\n",
              "    </tr>\n",
              "  </tbody>\n",
              "</table>\n",
              "</div>"
            ],
            "text/plain": [
              "                                                                                                                                                Articles\n",
              "0  dual code success england rugby union captain jason robinson dual code success australia saturday robinson rugby league code lead england australi...\n",
              "1  emi share profit warning share music giant emi sunk firm profit warning disappointing sale delay album release emi music sale year march fall year...\n",
              "2  bank crash parmalat reclaim money bank scandal italian dairy company year firm debt bn euro bn bn new bos enrico bondi legal action number lender ...\n",
              "3  lewis francis gold mark lewis francis olympic success bag world championship gold year maurice greene leg x relay athens top honour team gb birchf...\n",
              "4  gardener battle jason gardener way line claim men title norwich union indoor trial aaa championship world champion mark findlay darren chin block ..."
            ]
          },
          "metadata": {
            "tags": []
          },
          "execution_count": 14
        }
      ]
    },
    {
      "cell_type": "code",
      "metadata": {
        "id": "nLgMkwtJPMF8"
      },
      "source": [
        "# Storing the number of words spoken in each document\n",
        "bbc_copy['Words count'] = bbc_copy['Articles'].apply(lambda x: len(list(x)))"
      ],
      "execution_count": null,
      "outputs": []
    },
    {
      "cell_type": "code",
      "metadata": {
        "id": "UqunKpNzPMF9",
        "outputId": "57a6eafc-7154-4c34-d8c6-4e4a7c824585"
      },
      "source": [
        "# Dataset\n",
        "bbc_copy.head()"
      ],
      "execution_count": null,
      "outputs": [
        {
          "output_type": "execute_result",
          "data": {
            "text/html": [
              "<div>\n",
              "<style scoped>\n",
              "    .dataframe tbody tr th:only-of-type {\n",
              "        vertical-align: middle;\n",
              "    }\n",
              "\n",
              "    .dataframe tbody tr th {\n",
              "        vertical-align: top;\n",
              "    }\n",
              "\n",
              "    .dataframe thead th {\n",
              "        text-align: right;\n",
              "    }\n",
              "</style>\n",
              "<table border=\"1\" class=\"dataframe\">\n",
              "  <thead>\n",
              "    <tr style=\"text-align: right;\">\n",
              "      <th></th>\n",
              "      <th>Articles</th>\n",
              "      <th>Words count</th>\n",
              "    </tr>\n",
              "  </thead>\n",
              "  <tbody>\n",
              "    <tr>\n",
              "      <th>0</th>\n",
              "      <td>dual code success england rugby union captain jason robinson dual code success australia saturday robinson rugby league code lead england australi...</td>\n",
              "      <td>704</td>\n",
              "    </tr>\n",
              "    <tr>\n",
              "      <th>1</th>\n",
              "      <td>emi share profit warning share music giant emi sunk firm profit warning disappointing sale delay album release emi music sale year march fall year...</td>\n",
              "      <td>715</td>\n",
              "    </tr>\n",
              "    <tr>\n",
              "      <th>2</th>\n",
              "      <td>bank crash parmalat reclaim money bank scandal italian dairy company year firm debt bn euro bn bn new bos enrico bondi legal action number lender ...</td>\n",
              "      <td>706</td>\n",
              "    </tr>\n",
              "    <tr>\n",
              "      <th>3</th>\n",
              "      <td>lewis francis gold mark lewis francis olympic success bag world championship gold year maurice greene leg x relay athens top honour team gb birchf...</td>\n",
              "      <td>359</td>\n",
              "    </tr>\n",
              "    <tr>\n",
              "      <th>4</th>\n",
              "      <td>gardener battle jason gardener way line claim men title norwich union indoor trial aaa championship world champion mark findlay darren chin block ...</td>\n",
              "      <td>1668</td>\n",
              "    </tr>\n",
              "  </tbody>\n",
              "</table>\n",
              "</div>"
            ],
            "text/plain": [
              "                                                                                                                                                Articles  \\\n",
              "0  dual code success england rugby union captain jason robinson dual code success australia saturday robinson rugby league code lead england australi...   \n",
              "1  emi share profit warning share music giant emi sunk firm profit warning disappointing sale delay album release emi music sale year march fall year...   \n",
              "2  bank crash parmalat reclaim money bank scandal italian dairy company year firm debt bn euro bn bn new bos enrico bondi legal action number lender ...   \n",
              "3  lewis francis gold mark lewis francis olympic success bag world championship gold year maurice greene leg x relay athens top honour team gb birchf...   \n",
              "4  gardener battle jason gardener way line claim men title norwich union indoor trial aaa championship world champion mark findlay darren chin block ...   \n",
              "\n",
              "   Words count  \n",
              "0          704  \n",
              "1          715  \n",
              "2          706  \n",
              "3          359  \n",
              "4         1668  "
            ]
          },
          "metadata": {
            "tags": []
          },
          "execution_count": 16
        }
      ]
    },
    {
      "cell_type": "markdown",
      "metadata": {
        "id": "uQHOcyN8PMF-"
      },
      "source": [
        "### <b>Checking Distribution of the number of terms in each document:</b>\n",
        "* We will try to remove the documents having extreme values of 'words count'"
      ]
    },
    {
      "cell_type": "code",
      "metadata": {
        "id": "0vhQYqxJPMF-",
        "outputId": "ec4c6c3d-14e4-4067-dc70-66d4b7f5adc6"
      },
      "source": [
        "# Distribution of Word counts\n",
        "plt.figure(figsize = (8,5))\n",
        "sns.distplot(bbc_copy['Words count'], hist = True, color = 'red')\n",
        "plt.title(\"Distribution of word counts\")"
      ],
      "execution_count": null,
      "outputs": [
        {
          "output_type": "execute_result",
          "data": {
            "text/plain": [
              "Text(0.5, 1.0, 'Distribution of word counts')"
            ]
          },
          "metadata": {
            "tags": []
          },
          "execution_count": 17
        },
        {
          "output_type": "display_data",
          "data": {
            "image/png": "[encoded data removed]",
            "text/plain": [
              "<Figure size 576x360 with 1 Axes>"
            ]
          },
          "metadata": {
            "tags": []
          }
        }
      ]
    },
    {
      "cell_type": "markdown",
      "metadata": {
        "id": "QjRDlXBFPMGA"
      },
      "source": [
        "* <b>Conclusion</b>:\n",
        "* Most of the documents have word counts close to 800-900. However, some articles have word counts over 3000 as well. For simplicity of our model we will be removing those articles which have a much higher word count. Let's check how many documents have such a higher word count in our dataset"
      ]
    },
    {
      "cell_type": "code",
      "metadata": {
        "id": "_7G4xTmqPMGA",
        "outputId": "57632074-a58d-4e53-b325-84256d27b275"
      },
      "source": [
        "print(\"Number of articles having word count less than 400 are: {}\".format((bbc_copy['Words count'] < 300).sum()))\n",
        "print(\"Number of articles having word count greater than 3000 are: {}\".format((bbc_copy['Words count'] > 3000).sum()))"
      ],
      "execution_count": null,
      "outputs": [
        {
          "output_type": "stream",
          "text": [
            "Number of articles having word count less than 400 are: 31\n",
            "Number of articles having word count greater than 3000 are: 10\n"
          ],
          "name": "stdout"
        }
      ]
    },
    {
      "cell_type": "code",
      "metadata": {
        "id": "Cin-tIEOPMGB",
        "outputId": "3d802a57-93ff-48c0-c9e6-7abd37d6ca2a"
      },
      "source": [
        "# Removing words having higher word counts(more than 3000)\n",
        "bbc_copy = bbc_copy[bbc_copy['Words count'] < 3000]\n",
        "bbc_copy.head()"
      ],
      "execution_count": null,
      "outputs": [
        {
          "output_type": "execute_result",
          "data": {
            "text/html": [
              "<div>\n",
              "<style scoped>\n",
              "    .dataframe tbody tr th:only-of-type {\n",
              "        vertical-align: middle;\n",
              "    }\n",
              "\n",
              "    .dataframe tbody tr th {\n",
              "        vertical-align: top;\n",
              "    }\n",
              "\n",
              "    .dataframe thead th {\n",
              "        text-align: right;\n",
              "    }\n",
              "</style>\n",
              "<table border=\"1\" class=\"dataframe\">\n",
              "  <thead>\n",
              "    <tr style=\"text-align: right;\">\n",
              "      <th></th>\n",
              "      <th>Articles</th>\n",
              "      <th>Words count</th>\n",
              "    </tr>\n",
              "  </thead>\n",
              "  <tbody>\n",
              "    <tr>\n",
              "      <th>0</th>\n",
              "      <td>dual code success england rugby union captain jason robinson dual code success australia saturday robinson rugby league code lead england australi...</td>\n",
              "      <td>704</td>\n",
              "    </tr>\n",
              "    <tr>\n",
              "      <th>1</th>\n",
              "      <td>emi share profit warning share music giant emi sunk firm profit warning disappointing sale delay album release emi music sale year march fall year...</td>\n",
              "      <td>715</td>\n",
              "    </tr>\n",
              "    <tr>\n",
              "      <th>2</th>\n",
              "      <td>bank crash parmalat reclaim money bank scandal italian dairy company year firm debt bn euro bn bn new bos enrico bondi legal action number lender ...</td>\n",
              "      <td>706</td>\n",
              "    </tr>\n",
              "    <tr>\n",
              "      <th>3</th>\n",
              "      <td>lewis francis gold mark lewis francis olympic success bag world championship gold year maurice greene leg x relay athens top honour team gb birchf...</td>\n",
              "      <td>359</td>\n",
              "    </tr>\n",
              "    <tr>\n",
              "      <th>4</th>\n",
              "      <td>gardener battle jason gardener way line claim men title norwich union indoor trial aaa championship world champion mark findlay darren chin block ...</td>\n",
              "      <td>1668</td>\n",
              "    </tr>\n",
              "  </tbody>\n",
              "</table>\n",
              "</div>"
            ],
            "text/plain": [
              "                                                                                                                                                Articles  \\\n",
              "0  dual code success england rugby union captain jason robinson dual code success australia saturday robinson rugby league code lead england australi...   \n",
              "1  emi share profit warning share music giant emi sunk firm profit warning disappointing sale delay album release emi music sale year march fall year...   \n",
              "2  bank crash parmalat reclaim money bank scandal italian dairy company year firm debt bn euro bn bn new bos enrico bondi legal action number lender ...   \n",
              "3  lewis francis gold mark lewis francis olympic success bag world championship gold year maurice greene leg x relay athens top honour team gb birchf...   \n",
              "4  gardener battle jason gardener way line claim men title norwich union indoor trial aaa championship world champion mark findlay darren chin block ...   \n",
              "\n",
              "   Words count  \n",
              "0          704  \n",
              "1          715  \n",
              "2          706  \n",
              "3          359  \n",
              "4         1668  "
            ]
          },
          "metadata": {
            "tags": []
          },
          "execution_count": 19
        }
      ]
    },
    {
      "cell_type": "markdown",
      "metadata": {
        "id": "nBH6SVd7PMGC"
      },
      "source": [
        "## <b>Converting our terms into vectors (Vectorization): </b>\n",
        "* We will first be using CountVectorizer(Bag of Words) to convert tokens into vectors\n",
        "* We will plot the most frequent words in our dataset"
      ]
    },
    {
      "cell_type": "code",
      "metadata": {
        "id": "wqrg7FlqPMGC"
      },
      "source": [
        "# Using Count Vectorizer to convert the terms into vectors\n",
        "\n",
        "cv = CountVectorizer(ngram_range=(1, 2), min_df = 2,\n",
        "                       encoding='ascii')\n",
        "counts = cv.fit_transform(bbc_copy['Articles'])"
      ],
      "execution_count": null,
      "outputs": []
    },
    {
      "cell_type": "code",
      "metadata": {
        "id": "45qNrl8nPMGD"
      },
      "source": [
        "# Converting the sparse matrix into a dataframe\n",
        "counts_df =  pd.DataFrame(counts.toarray(), columns = cv.get_feature_names())"
      ],
      "execution_count": null,
      "outputs": []
    },
    {
      "cell_type": "code",
      "metadata": {
        "id": "nw9RSW22PMGE",
        "outputId": "ed78ed17-a4eb-48da-fe5c-4075293b25e2"
      },
      "source": [
        "# Shape of our sparse dataset\n",
        "counts_df.shape"
      ],
      "execution_count": null,
      "outputs": [
        {
          "output_type": "execute_result",
          "data": {
            "text/plain": [
              "(2215, 47582)"
            ]
          },
          "metadata": {
            "tags": []
          },
          "execution_count": 26
        }
      ]
    },
    {
      "cell_type": "markdown",
      "metadata": {
        "id": "yz-cF1ydPMGE"
      },
      "source": [
        "## <b>Counting the occurance of each term in our corpus:</b>\n",
        "* Creating an empty dictionary\n",
        "* Storing the term as keys and the count as values\n",
        "* Updating our stopwords\n",
        "* Plotting the most frequent words using a bar-plot"
      ]
    },
    {
      "cell_type": "code",
      "metadata": {
        "id": "OQdTG_6dPMGF"
      },
      "source": [
        "# Creating an empty dictionary\n",
        "counts_dict = {}\n",
        "for ii, word in enumerate(counts_df.columns):\n",
        "    counts_dict[word] = sum(counts_df[str(word)])\n",
        "    word_count = [(i,count) for i,count in list(zip(counts_dict.keys(), counts_dict.values()))]"
      ],
      "execution_count": null,
      "outputs": []
    },
    {
      "cell_type": "code",
      "metadata": {
        "id": "d9kuPAs-PMGF",
        "outputId": "26cdb2fc-43c2-410f-9233-72dfae20e255"
      },
      "source": [
        "# Looking at the most common words\n",
        "# Sorting the occurance of each term in a descending format\n",
        "sorted_counts = sorted(word_count, key = lambda x: x[1], reverse = True)\n",
        "sorted_counts"
      ],
      "execution_count": null,
      "outputs": [
        {
          "output_type": "execute_result",
          "data": {
            "text/plain": [
              "[('mr', 2874),\n",
              " ('year', 2198),\n",
              " ('new', 1793),\n",
              " ('people', 1252),\n",
              " ('time', 1192),\n",
              " ('game', 1170),\n",
              " ('world', 996),\n",
              " ('government', 954),\n",
              " ('uk', 938),\n",
              " ('film', 936),\n",
              " ('company', 918),\n",
              " ('bn', 871),\n",
              " ('firm', 848),\n",
              " ('service', 785),\n",
              " ('market', 736),\n",
              " ('number', 718),\n",
              " ('labour', 693),\n",
              " ('music', 678),\n",
              " ('player', 672),\n",
              " ('bbc', 665),\n",
              " ('minister', 652),\n",
              " ('election', 644),\n",
              " ('sale', 640),\n",
              " ('show', 627),\n",
              " ('party', 624),\n",
              " ('country', 616),\n",
              " ('technology', 578),\n",
              " ('blair', 569),\n",
              " ('group', 557),\n",
              " ('day', 553),\n",
              " ('month', 550),\n",
              " ('phone', 549),\n",
              " ('plan', 546),\n",
              " ('part', 538),\n",
              " ('way', 537),\n",
              " ('good', 535),\n",
              " ('home', 534),\n",
              " ('week', 533),\n",
              " ('work', 533),\n",
              " ('england', 519),\n",
              " ('mobile', 519),\n",
              " ('european', 515),\n",
              " ('top', 512),\n",
              " ('award', 504),\n",
              " ('high', 497),\n",
              " ('tv', 485),\n",
              " ('tax', 474),\n",
              " ('british', 465),\n",
              " ('chief', 461),\n",
              " ('news', 459),\n",
              " ('report', 459),\n",
              " ('need', 449),\n",
              " ('system', 442),\n",
              " ('price', 439),\n",
              " ('director', 436),\n",
              " ('public', 435),\n",
              " ('record', 434),\n",
              " ('share', 430),\n",
              " ('bank', 429),\n",
              " ('star', 429),\n",
              " ('net', 427),\n",
              " ('tory', 427),\n",
              " ('growth', 418),\n",
              " ('industry', 415),\n",
              " ('end', 414),\n",
              " ('business', 413),\n",
              " ('london', 407),\n",
              " ('cost', 405),\n",
              " ('user', 398),\n",
              " ('lord', 395),\n",
              " ('computer', 387),\n",
              " ('economy', 384),\n",
              " ('economic', 383),\n",
              " ('law', 382),\n",
              " ('life', 380),\n",
              " ('digital', 377),\n",
              " ('team', 373),\n",
              " ('security', 371),\n",
              " ('state', 371),\n",
              " ('network', 370),\n",
              " ('play', 370),\n",
              " ('rate', 367),\n",
              " ('issue', 366),\n",
              " ('leader', 366),\n",
              " ('problem', 360),\n",
              " ('executive', 357),\n",
              " ('video', 354),\n",
              " ('howard', 353),\n",
              " ('general', 352),\n",
              " ('international', 352),\n",
              " ('office', 350),\n",
              " ('big', 349),\n",
              " ('club', 349),\n",
              " ('consumer', 347),\n",
              " ('court', 340),\n",
              " ('analyst', 338),\n",
              " ('place', 338),\n",
              " ('spokesman', 338),\n",
              " ('figure', 337),\n",
              " ('software', 333),\n",
              " ('europe', 331),\n",
              " ('mr blair', 329),\n",
              " ('old', 328),\n",
              " ('britain', 327),\n",
              " ('medium', 326),\n",
              " ('president', 325),\n",
              " ('prime', 325),\n",
              " ('money', 321),\n",
              " ('mp', 321),\n",
              " ('prime minister', 319),\n",
              " ('website', 319),\n",
              " ('job', 318),\n",
              " ('wale', 318),\n",
              " ('use', 317),\n",
              " ('action', 316),\n",
              " ('interest', 315),\n",
              " ('radio', 314),\n",
              " ('case', 313),\n",
              " ('france', 313),\n",
              " ('campaign', 312),\n",
              " ('side', 312),\n",
              " ('decision', 311),\n",
              " ('final', 311),\n",
              " ('claim', 310),\n",
              " ('line', 308),\n",
              " ('open', 301),\n",
              " ('great', 300),\n",
              " ('national', 300),\n",
              " ('information', 298),\n",
              " ('rise', 297),\n",
              " ('site', 295),\n",
              " ('programme', 293),\n",
              " ('lot', 287),\n",
              " ('run', 287),\n",
              " ('oil', 286),\n",
              " ('term', 283),\n",
              " ('cup', 282),\n",
              " ('ireland', 282),\n",
              " ('michael', 282),\n",
              " ('point', 282),\n",
              " ('data', 281),\n",
              " ('foreign', 281),\n",
              " ('member', 281),\n",
              " ('online', 279),\n",
              " ('secretary', 279),\n",
              " ('thing', 279),\n",
              " ('title', 279),\n",
              " ('child', 277),\n",
              " ('control', 277),\n",
              " ('champion', 275),\n",
              " ('china', 275),\n",
              " ('internet', 273),\n",
              " ('future', 271),\n",
              " ('power', 271),\n",
              " ('recent', 271),\n",
              " ('role', 267),\n",
              " ('result', 266),\n",
              " ('hope', 265),\n",
              " ('house', 264),\n",
              " ('level', 264),\n",
              " ('woman', 263),\n",
              " ('long', 262),\n",
              " ('return', 262),\n",
              " ('local', 261),\n",
              " ('look', 260),\n",
              " ('research', 260),\n",
              " ('january', 259),\n",
              " ('legal', 257),\n",
              " ('bill', 256),\n",
              " ('john', 253),\n",
              " ('current', 252),\n",
              " ('major', 252),\n",
              " ('nation', 251),\n",
              " ('december', 250),\n",
              " ('key', 250),\n",
              " ('increase', 249),\n",
              " ('american', 248),\n",
              " ('card', 248),\n",
              " ('pc', 248),\n",
              " ('policy', 248),\n",
              " ('financial', 247),\n",
              " ('david', 245),\n",
              " ('budget', 244),\n",
              " ('eu', 244),\n",
              " ('rule', 244),\n",
              " ('sport', 242),\n",
              " ('support', 242),\n",
              " ('coach', 240),\n",
              " ('trade', 240),\n",
              " ('union', 240),\n",
              " ('man', 239),\n",
              " ('meeting', 239),\n",
              " ('council', 238),\n",
              " ('demand', 238),\n",
              " ('access', 237),\n",
              " ('chancellor', 237),\n",
              " ('real', 237),\n",
              " ('school', 237),\n",
              " ('euro', 236),\n",
              " ('attack', 235),\n",
              " ('head', 235),\n",
              " ('performance', 235),\n",
              " ('profit', 235),\n",
              " ('manager', 233),\n",
              " ('microsoft', 233),\n",
              " ('dollar', 230),\n",
              " ('mark', 230),\n",
              " ('different', 229),\n",
              " ('scotland', 227),\n",
              " ('war', 227),\n",
              " ('minute', 226),\n",
              " ('sunday', 226),\n",
              " ('injury', 224),\n",
              " ('strong', 224),\n",
              " ('broadband', 223),\n",
              " ('chairman', 223),\n",
              " ('tony', 223),\n",
              " ('actor', 222),\n",
              " ('aid', 222),\n",
              " ('search', 221),\n",
              " ('free', 220),\n",
              " ('investment', 220),\n",
              " ('political', 220),\n",
              " ('band', 218),\n",
              " ('event', 218),\n",
              " ('movie', 215),\n",
              " ('area', 213),\n",
              " ('device', 213),\n",
              " ('test', 212),\n",
              " ('virus', 212),\n",
              " ('centre', 210),\n",
              " ('book', 209),\n",
              " ('chief executive', 208),\n",
              " ('name', 208),\n",
              " ('product', 208),\n",
              " ('dvd', 207),\n",
              " ('order', 207),\n",
              " ('police', 207),\n",
              " ('version', 207),\n",
              " ('season', 206),\n",
              " ('full', 205),\n",
              " ('important', 205),\n",
              " ('making', 204),\n",
              " ('chance', 203),\n",
              " ('project', 203),\n",
              " ('lead', 202),\n",
              " ('low', 202),\n",
              " ('th', 202),\n",
              " ('family', 201),\n",
              " ('series', 201),\n",
              " ('quarter', 200),\n",
              " ('stock', 199),\n",
              " ('march', 197),\n",
              " ('personal', 197),\n",
              " ('production', 197),\n",
              " ('bid', 196),\n",
              " ('statement', 196),\n",
              " ('charge', 194),\n",
              " ('fan', 194),\n",
              " ('february', 193),\n",
              " ('league', 193),\n",
              " ('rugby', 193),\n",
              " ('tuesday', 193),\n",
              " ('chart', 192),\n",
              " ('city', 192),\n",
              " ('list', 192),\n",
              " ('wednesday', 192),\n",
              " ('winner', 191),\n",
              " ('content', 189),\n",
              " ('act', 188),\n",
              " ('form', 188),\n",
              " ('message', 187),\n",
              " ('victory', 187),\n",
              " ('account', 186),\n",
              " ('concern', 186),\n",
              " ('file', 186),\n",
              " ('monday', 186),\n",
              " ('development', 185),\n",
              " ('past', 185),\n",
              " ('car', 184),\n",
              " ('committee', 184),\n",
              " ('japan', 184),\n",
              " ('tony blair', 184),\n",
              " ('customer', 183),\n",
              " ('main', 183),\n",
              " ('brown', 182),\n",
              " ('conservative', 181),\n",
              " ('fund', 181),\n",
              " ('saturday', 181),\n",
              " ('friday', 180),\n",
              " ('lib', 180),\n",
              " ('box', 179),\n",
              " ('huge', 179),\n",
              " ('sir', 179),\n",
              " ('young', 179),\n",
              " ('drug', 178),\n",
              " ('album', 177),\n",
              " ('commission', 177),\n",
              " ('goal', 177),\n",
              " ('bn bn', 176),\n",
              " ('success', 176),\n",
              " ('india', 175),\n",
              " ('vote', 175),\n",
              " ('york', 175),\n",
              " ('bbc news', 174),\n",
              " ('belief', 174),\n",
              " ('health', 174),\n",
              " ('mobile phone', 174),\n",
              " ('new york', 174),\n",
              " ('speed', 174),\n",
              " ('web', 174),\n",
              " ('liberal', 173),\n",
              " ('official', 173),\n",
              " ('target', 173),\n",
              " ('common', 172),\n",
              " ('general election', 172),\n",
              " ('hand', 172),\n",
              " ('oscar', 172),\n",
              " ('chelsea', 171),\n",
              " ('french', 171),\n",
              " ('trial', 171),\n",
              " ('previous', 170),\n",
              " ('williams', 170),\n",
              " ('global', 169),\n",
              " ('prize', 169),\n",
              " ('standard', 168),\n",
              " ('career', 167),\n",
              " ('debt', 167),\n",
              " ('democrat', 167),\n",
              " ('apple', 166),\n",
              " ('football', 166),\n",
              " ('iraq', 166),\n",
              " ('choice', 165),\n",
              " ('maker', 165),\n",
              " ('russian', 165),\n",
              " ('small', 165),\n",
              " ('competition', 164),\n",
              " ('yukos', 164),\n",
              " ('race', 163),\n",
              " ('sony', 163),\n",
              " ('spending', 163),\n",
              " ('annual', 162),\n",
              " ('fall', 162),\n",
              " ('gadget', 162),\n",
              " ('likely', 161),\n",
              " ('november', 161),\n",
              " ('exchange', 160),\n",
              " ('camera', 159),\n",
              " ('mr howard', 159),\n",
              " ('release', 159),\n",
              " ('bos', 158),\n",
              " ('cash', 158),\n",
              " ('opportunity', 158),\n",
              " ('conference', 157),\n",
              " ('total', 157),\n",
              " ('board', 156),\n",
              " ('liberal democrat', 156),\n",
              " ('clear', 155),\n",
              " ('song', 155),\n",
              " ('co', 154),\n",
              " ('comment', 154),\n",
              " ('community', 154),\n",
              " ('machine', 154),\n",
              " ('picture', 154),\n",
              " ('hour', 153),\n",
              " ('image', 153),\n",
              " ('charles', 152),\n",
              " ('launch', 152),\n",
              " ('street', 152),\n",
              " ('television', 152),\n",
              " ('agency', 151),\n",
              " ('effort', 151),\n",
              " ('paul', 151),\n",
              " ('singer', 151),\n",
              " ('thursday', 151),\n",
              " ('airline', 150),\n",
              " ('christmas', 150),\n",
              " ('producer', 150),\n",
              " ('association', 149),\n",
              " ('men', 149),\n",
              " ('view', 149),\n",
              " ('double', 148),\n",
              " ('human', 148),\n",
              " ('jones', 148),\n",
              " ('range', 148),\n",
              " ('giant', 147),\n",
              " ('hard', 147),\n",
              " ('organisation', 147),\n",
              " ('september', 147),\n",
              " ('value', 147),\n",
              " ('championship', 146),\n",
              " ('drive', 146),\n",
              " ('education', 146),\n",
              " ('possible', 146),\n",
              " ('question', 146),\n",
              " ('screen', 146),\n",
              " ('large', 145),\n",
              " ('senior', 145),\n",
              " ('age', 144),\n",
              " ('authority', 144),\n",
              " ('german', 144),\n",
              " ('hold', 144),\n",
              " ('proposal', 144),\n",
              " ('tour', 144),\n",
              " ('university', 144),\n",
              " ('dr', 143),\n",
              " ('olympic', 143),\n",
              " ('single', 143),\n",
              " ('able', 142),\n",
              " ('fact', 142),\n",
              " ('stage', 142),\n",
              " ('department', 141),\n",
              " ('festival', 141),\n",
              " ('challenge', 139),\n",
              " ('idea', 139),\n",
              " ('irish', 139),\n",
              " ('pay', 139),\n",
              " ('available', 138),\n",
              " ('date', 138),\n",
              " ('grand', 137),\n",
              " ('program', 137),\n",
              " ('talk', 137),\n",
              " ('force', 136),\n",
              " ('germany', 136),\n",
              " ('newspaper', 136),\n",
              " ('pre', 136),\n",
              " ('evidence', 135),\n",
              " ('martin', 134),\n",
              " ('pressure', 134),\n",
              " ('robert', 133),\n",
              " ('sector', 133),\n",
              " ('window', 133),\n",
              " ('actress', 132),\n",
              " ('appeal', 132),\n",
              " ('pension', 132),\n",
              " ('period', 132),\n",
              " ('right', 132),\n",
              " ('year old', 132),\n",
              " ('arsenal', 131),\n",
              " ('liverpool', 131),\n",
              " ('rival', 131),\n",
              " ('speech', 131),\n",
              " ('voter', 131),\n",
              " ('bush', 130),\n",
              " ('immigration', 130),\n",
              " ('kennedy', 130),\n",
              " ('position', 130),\n",
              " ('attempt', 129),\n",
              " ('independent', 129),\n",
              " ('investor', 129),\n",
              " ('risk', 129),\n",
              " ('summer', 129),\n",
              " ('body', 128),\n",
              " ('fight', 128),\n",
              " ('loss', 128),\n",
              " ('night', 128),\n",
              " ('parliament', 128),\n",
              " ('potential', 128),\n",
              " ('story', 128),\n",
              " ('unit', 128),\n",
              " ('comedy', 127),\n",
              " ('michael howard', 127),\n",
              " ('peer', 127),\n",
              " ('scottish', 127),\n",
              " ('download', 126),\n",
              " ('weekend', 126),\n",
              " ('moment', 125),\n",
              " ('october', 125),\n",
              " ('popular', 125),\n",
              " ('reform', 125),\n",
              " ('rock', 125),\n",
              " ('similar', 125),\n",
              " ('survey', 125),\n",
              " ('gordon', 124),\n",
              " ('judge', 124),\n",
              " ('operation', 124),\n",
              " ('channel', 123),\n",
              " ('entertainment', 123),\n",
              " ('extra', 123),\n",
              " ('press', 123),\n",
              " ('revenue', 123),\n",
              " ('russia', 123),\n",
              " ('short', 123),\n",
              " ('audience', 122),\n",
              " ('ball', 122),\n",
              " ('ban', 122),\n",
              " ('console', 122),\n",
              " ('ensure', 122),\n",
              " ('experience', 122),\n",
              " ('favourite', 122),\n",
              " ('source', 122),\n",
              " ('special', 122),\n",
              " ('worker', 122),\n",
              " ('host', 121),\n",
              " ('operator', 121),\n",
              " ('stand', 121),\n",
              " ('bt', 120),\n",
              " ('defence', 120),\n",
              " ('deficit', 120),\n",
              " ('fraud', 120),\n",
              " ('late', 120),\n",
              " ('battle', 119),\n",
              " ('benefit', 119),\n",
              " ('criminal', 119),\n",
              " ('process', 119),\n",
              " ('scheme', 119),\n",
              " ('studio', 119),\n",
              " ('debut', 118),\n",
              " ('model', 118),\n",
              " ('smith', 118),\n",
              " ('squad', 118),\n",
              " ('whole', 118),\n",
              " ('africa', 117),\n",
              " ('artist', 117),\n",
              " ('cross', 117),\n",
              " ('davis', 117),\n",
              " ('history', 117),\n",
              " ('indian', 117),\n",
              " ('nomination', 117),\n",
              " ('shot', 117),\n",
              " ('store', 117),\n",
              " ('tsunami', 117),\n",
              " ('blog', 116),\n",
              " ('category', 116),\n",
              " ('energy', 116),\n",
              " ('meet', 116),\n",
              " ('track', 116),\n",
              " ('air', 115),\n",
              " ('australian', 115),\n",
              " ('credit', 115),\n",
              " ('effect', 115),\n",
              " ('income', 115),\n",
              " ('manchester', 115),\n",
              " ('penalty', 115),\n",
              " ('alan', 114),\n",
              " ('contract', 114),\n",
              " ('others', 114),\n",
              " ('response', 114),\n",
              " ('civil', 113),\n",
              " ('interest rate', 113),\n",
              " ('james', 113),\n",
              " ('lawyer', 113),\n",
              " ('poll', 113),\n",
              " ('average', 112),\n",
              " ('bbc radio', 112),\n",
              " ('black', 112),\n",
              " ('private', 112),\n",
              " ('deutsche', 111),\n",
              " ('difficult', 111),\n",
              " ('focus', 111),\n",
              " ('parent', 111),\n",
              " ('robinson', 111),\n",
              " ('economist', 110),\n",
              " ('mike', 110),\n",
              " ('andy', 109),\n",
              " ('bit', 109),\n",
              " ('central', 109),\n",
              " ('death', 109),\n",
              " ('detail', 109),\n",
              " ('impact', 109),\n",
              " ('quality', 109),\n",
              " ('step', 109),\n",
              " ('student', 109),\n",
              " ('disaster', 108),\n",
              " ('front', 108),\n",
              " ('original', 108),\n",
              " ('ray', 108),\n",
              " ('round', 108),\n",
              " ('shareholder', 108),\n",
              " ('captain', 107),\n",
              " ('connection', 107),\n",
              " ('course', 107),\n",
              " ('reason', 107),\n",
              " ('spam', 107),\n",
              " ('australia', 106),\n",
              " ('campbell', 106),\n",
              " ('ceremony', 106),\n",
              " ('crime', 106),\n",
              " ('damage', 106),\n",
              " ('majority', 106),\n",
              " ('trust', 106),\n",
              " ('affair', 105),\n",
              " ('mini', 105),\n",
              " ('officer', 105),\n",
              " ('blunkett', 104),\n",
              " ('measure', 104),\n",
              " ('non', 104),\n",
              " ('post', 104),\n",
              " ('protection', 104),\n",
              " ('training', 104),\n",
              " ('code', 103),\n",
              " ('june', 103),\n",
              " ('management', 103),\n",
              " ('critic', 102),\n",
              " ('dems', 102),\n",
              " ('expert', 102),\n",
              " ('fox', 102),\n",
              " ('johnson', 102),\n",
              " ('lib dems', 102),\n",
              " ('peter', 102),\n",
              " ('rest', 102),\n",
              " ('situation', 102),\n",
              " ('threat', 102),\n",
              " ('wireless', 102),\n",
              " ('definition', 101),\n",
              " ('generation', 101),\n",
              " ('google', 101),\n",
              " ('individual', 101),\n",
              " ('link', 101),\n",
              " ('word', 101),\n",
              " ('friend', 100),\n",
              " ('hollywood', 100),\n",
              " ('matter', 100),\n",
              " ('poor', 100),\n",
              " ('slam', 100),\n",
              " ('station', 100),\n",
              " ('warning', 100),\n",
              " ('building', 99),\n",
              " ('opposition', 99),\n",
              " ('agreement', 98),\n",
              " ('english', 98),\n",
              " ('ground', 98),\n",
              " ('review', 98),\n",
              " ('spain', 98),\n",
              " ('staff', 98),\n",
              " ('confidence', 97),\n",
              " ('defeat', 97),\n",
              " ('example', 97),\n",
              " ('king', 97),\n",
              " ('row', 97),\n",
              " ('april', 96),\n",
              " ('cabinet', 96),\n",
              " ('domestic', 96),\n",
              " ('heart', 96),\n",
              " ('social', 96),\n",
              " ('society', 96),\n",
              " ('study', 96),\n",
              " ('andrew', 95),\n",
              " ('bad', 95),\n",
              " ('field', 95),\n",
              " ('grand slam', 95),\n",
              " ('park', 95),\n",
              " ('positive', 95),\n",
              " ('shadow', 95),\n",
              " ('tough', 95),\n",
              " ('boy', 94),\n",
              " ('chip', 94),\n",
              " ('clarke', 94),\n",
              " ('finance', 94),\n",
              " ('news website', 94),\n",
              " ('richard', 94),\n",
              " ('aim', 93),\n",
              " ('america', 93),\n",
              " ('couple', 93),\n",
              " ('fuel', 93),\n",
              " ('address', 92),\n",
              " ('art', 92),\n",
              " ('asylum', 92),\n",
              " ('box office', 92),\n",
              " ('brand', 92),\n",
              " ('engine', 92),\n",
              " ('madrid', 92),\n",
              " ('victim', 92),\n",
              " ('ability', 91),\n",
              " ('amount', 91),\n",
              " ('bankruptcy', 91),\n",
              " ('fee', 91),\n",
              " ('format', 91),\n",
              " ('kind', 91),\n",
              " ('limit', 91),\n",
              " ('premiership', 91),\n",
              " ('property', 91),\n",
              " ('serious', 91),\n",
              " ('significant', 91),\n",
              " ('activity', 90),\n",
              " ('athens', 90),\n",
              " ('portable', 90),\n",
              " ('theatre', 90),\n",
              " ('world cup', 90),\n",
              " ('commercial', 89),\n",
              " ('doubt', 89),\n",
              " ('george', 89),\n",
              " ('golden', 89),\n",
              " ('keen', 89),\n",
              " ('magazine', 89),\n",
              " ('road', 89),\n",
              " ('stock market', 89),\n",
              " ('approach', 88),\n",
              " ('capital', 88),\n",
              " ('ipod', 88),\n",
              " ('japanese', 88),\n",
              " ('language', 88),\n",
              " ('owner', 88),\n",
              " ('sure', 88),\n",
              " ('taylor', 88),\n",
              " ('care', 87),\n",
              " ('federal', 87),\n",
              " ('roddick', 87),\n",
              " ('seat', 87),\n",
              " ('separate', 87),\n",
              " ('travel', 87),\n",
              " ('voice', 87),\n",
              " ('id', 86),\n",
              " ('material', 86),\n",
              " ('sort', 86),\n",
              " ('suggests', 86),\n",
              " ('tool', 86),\n",
              " ('broadcast', 85),\n",
              " ('chinese', 85),\n",
              " ('copy', 85),\n",
              " ('debate', 85),\n",
              " ('easy', 85),\n",
              " ('interview', 85),\n",
              " ('mac', 85),\n",
              " ('musical', 85),\n",
              " ('telecom', 85),\n",
              " ('terror', 85),\n",
              " ('asia', 84),\n",
              " ('asian', 84),\n",
              " ('boost', 84),\n",
              " ('cinema', 84),\n",
              " ('home secretary', 84),\n",
              " ('overall', 84),\n",
              " ('politics', 84),\n",
              " ('thomas', 84),\n",
              " ('design', 83),\n",
              " ('display', 83),\n",
              " ('ex', 83),\n",
              " ('payment', 83),\n",
              " ('spanish', 83),\n",
              " ('fair', 82),\n",
              " ('green', 82),\n",
              " ('indoor', 82),\n",
              " ('mind', 82),\n",
              " ('straw', 82),\n",
              " ('announcement', 81),\n",
              " ('drama', 81),\n",
              " ('drop', 81),\n",
              " ('gold', 81),\n",
              " ('handset', 81),\n",
              " ('honour', 81),\n",
              " ('leicester', 81),\n",
              " ('paper', 81),\n",
              " ('red', 81),\n",
              " ('seed', 81),\n",
              " ('steve', 81),\n",
              " ('subject', 81),\n",
              " ('text', 81),\n",
              " ('vice', 81),\n",
              " ('academy', 80),\n",
              " ('cable', 80),\n",
              " ('economic growth', 80),\n",
              " ('light', 80),\n",
              " ('lion', 80),\n",
              " ('offering', 80),\n",
              " ('tackle', 80),\n",
              " ('takeover', 80),\n",
              " ('character', 79),\n",
              " ('dem', 79),\n",
              " ('ferguson', 79),\n",
              " ('pair', 79),\n",
              " ('tournament', 79),\n",
              " ('asset', 78),\n",
              " ('environment', 78),\n",
              " ('kilroy', 78),\n",
              " ('lib dem', 78),\n",
              " ('newcastle', 78),\n",
              " ('opening', 78),\n",
              " ('silk', 78),\n",
              " ('supporter', 78),\n",
              " ('van', 78),\n",
              " ('wide', 78),\n",
              " ('edward', 77),\n",
              " ('eye', 77),\n",
              " ('gain', 77),\n",
              " ('high definition', 77),\n",
              " ('inquiry', 77),\n",
              " ('jackson', 77),\n",
              " ('massive', 77),\n",
              " ('recovery', 77),\n",
              " ('relief', 77),\n",
              " ('ruling', 77),\n",
              " ('stadium', 77),\n",
              " ('start', 77),\n",
              " ('viewer', 77),\n",
              " ('welsh', 77),\n",
              " ('writer', 77),\n",
              " ('nintendo', 76),\n",
              " ('super', 76),\n",
              " ('ticket', 76),\n",
              " ('tory leader', 76),\n",
              " ('corporate', 75),\n",
              " ('fellow', 75),\n",
              " ('journalist', 75),\n",
              " ('labour party', 75),\n",
              " ('lack', 75),\n",
              " ('tie', 75),\n",
              " ('tim', 75),\n",
              " ('aviator', 74),\n",
              " ('baby', 74),\n",
              " ('champion league', 74),\n",
              " ('controversial', 74),\n",
              " ('illegal', 74),\n",
              " ('investigation', 74),\n",
              " ('kilroy silk', 74),\n",
              " ('spot', 74),\n",
              " ('spyware', 74),\n",
              " ('strike', 74),\n",
              " ('visit', 74),\n",
              " ('edinburgh', 73),\n",
              " ('election campaign', 73),\n",
              " ('electronics', 73),\n",
              " ('food', 73),\n",
              " ('option', 73),\n",
              " ('stephen', 73),\n",
              " ('strategy', 73),\n",
              " ('striker', 73),\n",
              " ('white', 73),\n",
              " ('wrong', 73),\n",
              " ('decade', 72),\n",
              " ('harry', 72),\n",
              " ('loan', 72),\n",
              " ('los', 72),\n",
              " ('patent', 72),\n",
              " ('referee', 72),\n",
              " ('retail', 72),\n",
              " ('technical', 72),\n",
              " ('type', 72),\n",
              " ('worldwide', 72),\n",
              " ('advantage', 71),\n",
              " ('arm', 71),\n",
              " ('bbc sport', 71),\n",
              " ('close', 71),\n",
              " ('condition', 71),\n",
              " ('culture', 71),\n",
              " ('duty', 71),\n",
              " ('gas', 71),\n",
              " ('justice', 71),\n",
              " ('person', 71),\n",
              " ('progress', 71),\n",
              " ('simon', 71),\n",
              " ('size', 71),\n",
              " ('sound', 71),\n",
              " ('successful', 71),\n",
              " ('advice', 70),\n",
              " ('athletics', 70),\n",
              " ('communication', 70),\n",
              " ('difference', 70),\n",
              " ('gmt', 70),\n",
              " ('northern', 70),\n",
              " ('oil price', 70),\n",
              " ('paris', 70),\n",
              " ('san', 70),\n",
              " ('sullivan', 70),\n",
              " ('tennis', 70),\n",
              " ('ukip', 70),\n",
              " ('brian', 69),\n",
              " ('brother', 69),\n",
              " ('deputy', 69),\n",
              " ('division', 69),\n",
              " ('editor', 69),\n",
              " ('flight', 69),\n",
              " ('hunt', 69),\n",
              " ('italian', 69),\n",
              " ('lse', 69),\n",
              " ('planning', 69),\n",
              " ('poverty', 69),\n",
              " ('reserve', 69),\n",
              " ('scene', 69),\n",
              " ('speculation', 69),\n",
              " ('st', 69),\n",
              " ('appearance', 68),\n",
              " ('capacity', 68),\n",
              " ('charity', 68),\n",
              " ('fi', 68),\n",
              " ('gm', 68),\n",
              " ('inflation', 68),\n",
              " ('insurance', 68),\n",
              " ('morgan', 68),\n",
              " ('new zealand', 68),\n",
              " ('partner', 68),\n",
              " ('piracy', 68),\n",
              " ('poster', 68),\n",
              " ('responsibility', 68),\n",
              " ('stay', 68),\n",
              " ('traffic', 68),\n",
              " ('transport', 68),\n",
              " ('unemployment', 68),\n",
              " ('vehicle', 68),\n",
              " ('video game', 68),\n",
              " ('xbox', 68),\n",
              " ('zealand', 68),\n",
              " ('ambition', 67),\n",
              " ('blue', 67),\n",
              " ('boerse', 67),\n",
              " ('buying', 67),\n",
              " ('council tax', 67),\n",
              " ('earnings', 67),\n",
              " ('factor', 67),\n",
              " ('glazer', 67),\n",
              " ('middle', 67),\n",
              " ('milburn', 67),\n",
              " ('particular', 67),\n",
              " ('politician', 67),\n",
              " ('relationship', 67),\n",
              " ('replacement', 67),\n",
              " ('science', 67),\n",
              " ('space', 67),\n",
              " ('spokeswoman', 67),\n",
              " ('worth', 67),\n",
              " ('bn euro', 66),\n",
              " ('chris', 66),\n",
              " ('crowd', 66),\n",
              " ('half', 66),\n",
              " ('index', 66),\n",
              " ('mr kennedy', 66),\n",
              " ('public service', 66),\n",
              " ('trend', 66),\n",
              " ('athlete', 65),\n",
              " ('currency', 65),\n",
              " ('deutsche boerse', 65),\n",
              " ('entry', 65),\n",
              " ('expectation', 65),\n",
              " ('label', 65),\n",
              " ('lee', 65),\n",
              " ('mr blunkett', 65),\n",
              " ('page', 65),\n",
              " ('sky', 65),\n",
              " ('application', 64),\n",
              " ('bond', 64),\n",
              " ('cell', 64),\n",
              " ('developer', 64),\n",
              " ('due', 64),\n",
              " ('electronic', 64),\n",
              " ('estimate', 64),\n",
              " ('favour', 64),\n",
              " ('gerrard', 64),\n",
              " ('happy', 64),\n",
              " ('hip', 64),\n",
              " ('opinion', 64),\n",
              " ('sec', 64),\n",
              " ('skill', 64),\n",
              " ('angeles', 63),\n",
              " ('argentina', 63),\n",
              " ('auction', 63),\n",
              " ('birmingham', 63),\n",
              " ('candidate', 63),\n",
              " ('document', 63),\n",
              " ('greek', 63),\n",
              " ('ian', 63),\n",
              " ('los angeles', 63),\n",
              " ('region', 63),\n",
              " ('telephone', 63),\n",
              " ('ebbers', 62),\n",
              " ('failure', 62),\n",
              " ('hospital', 62),\n",
              " ('leadership', 62),\n",
              " ('legal action', 62),\n",
              " ('output', 62),\n",
              " ('panel', 62),\n",
              " ('respect', 62),\n",
              " ('style', 62),\n",
              " ('traditional', 62),\n",
              " ('african', 61),\n",
              " ('camp', 61),\n",
              " ('cardiff', 61),\n",
              " ('certain', 61),\n",
              " ('concert', 61),\n",
              " ('critical', 61),\n",
              " ('direct', 61),\n",
              " ('domain', 61),\n",
              " ('fit', 61),\n",
              " ('hotel', 61),\n",
              " ('jason', 61),\n",
              " ('kenteris', 61),\n",
              " ('lawsuit', 61),\n",
              " ('lewis', 61),\n",
              " ('long term', 61),\n",
              " ('medal', 61),\n",
              " ('owen', 61),\n",
              " ('provider', 61),\n",
              " ('simple', 61),\n",
              " ('william', 61),\n",
              " ('adult', 60),\n",
              " ('fast', 60),\n",
              " ('gazprom', 60),\n",
              " ('id card', 60),\n",
              " ('initiative', 60),\n",
              " ('multimedia', 60),\n",
              " ('nominee', 60),\n",
              " ('sentence', 60),\n",
              " ('setting', 60),\n",
              " ('stock exchange', 60),\n",
              " ('storage', 60),\n",
              " ('strength', 60),\n",
              " ('talent', 60),\n",
              " ('cap', 59),\n",
              " ('memory', 59),\n",
              " ('muslim', 59),\n",
              " ('olympics', 59),\n",
              " ...]"
            ]
          },
          "metadata": {
            "tags": []
          },
          "execution_count": 29
        }
      ]
    },
    {
      "cell_type": "markdown",
      "metadata": {
        "id": "t1VZYnHmPMGG"
      },
      "source": [
        "### <b>Updating our Stopwords:</b>\n",
        "* By looking at the counts of words from the list of tuples, we have updated the stop-words\n",
        "* Any word which has an occurance higher than 1500 and less than 4 have been considered stop-words"
      ]
    },
    {
      "cell_type": "code",
      "metadata": {
        "id": "EMzsu2tHPMGH"
      },
      "source": [
        "add_stop_words = [words for words,count in sorted_counts if (count > 1500) or (count < 4)]\n",
        "add_stop_words = add_stop_words + ['aaa','bn','aaa title', 'abc','eu','th','bn bn','common','apple', 'bn', 'blair', 'lib','mp','bb','basis mr','bee','bee gee']"
      ],
      "execution_count": null,
      "outputs": []
    },
    {
      "cell_type": "code",
      "metadata": {
        "id": "fn_WvFyfPMGH",
        "outputId": "6b51b6b2-d3d6-45a0-a3bc-9964d4971314"
      },
      "source": [
        "# Plotting a bar plot for the most frequent terms\n",
        "top_words = [word for word, count in sorted_counts[:40] if word not in add_stop_words]\n",
        "count_top_words = [count for word, count in sorted_counts[:40] if word not in add_stop_words]\n",
        "\n",
        "\n",
        "plt.figure(figsize = (10,10))\n",
        "sns.barplot(y = top_words, x=count_top_words, palette = 'rainbow')\n",
        "plt.title(\"Most Frequent Terms\")\n",
        "plt.xlabel(\"Counts\")\n",
        "plt.ylabel(\"Terms\")\n"
      ],
      "execution_count": null,
      "outputs": [
        {
          "output_type": "execute_result",
          "data": {
            "text/plain": [
              "Text(0, 0.5, 'Terms')"
            ]
          },
          "metadata": {
            "tags": []
          },
          "execution_count": 44
        },
        {
          "output_type": "display_data",
          "data": {
            "image/png": "[encoded data removed]",
            "text/plain": [
              "<Figure size 720x720 with 1 Axes>"
            ]
          },
          "metadata": {
            "tags": []
          }
        }
      ]
    },
    {
      "cell_type": "markdown",
      "metadata": {
        "id": "escjTvBzPMGI"
      },
      "source": [
        "<b> Conclusion: </b>\n",
        "The terms 'people', 'time', 'game', 'world' and 'government' are the words that have been spoken the most number of times in BBC.\n",
        "The term 'People' has been spoken the most number of times with a frequency of over 1200, followed by 'time' and 'game' which corresponds to 1190 times and 1170 times respectively."
      ]
    },
    {
      "cell_type": "markdown",
      "metadata": {
        "id": "3-Mh0o04PMGJ"
      },
      "source": [
        "## <b>Updating our document-term matrix using updated stop-words:</b>\n",
        "* We will be using Tfidf Vectorizer for creating the doc-term matrix\n",
        "* We will be applying the updated stopwords as well\n",
        "* <b>min_df:</b> (Minimum document frequency) Any term appearing in less than this threshold will not be allowed in the matrix\n",
        "* <b>max_df:</b> (Maximum document frequency) Any term appearing in more than this threshold will not be allowed in the matrix\n",
        "* <b>ngram_range:</b> (x,y)--->Collected words considered together as one token of length x and y"
      ]
    },
    {
      "cell_type": "code",
      "metadata": {
        "id": "00mbs16_PMGJ"
      },
      "source": [
        "# Recreating document-term matrix\n",
        "# Using updated stop-words\n",
        "\n",
        "vec = TfidfVectorizer(ngram_range=(1, 2),min_df = 0.0030,max_df = 0.60,\n",
        "                       encoding='ascii', stop_words = add_stop_words)\n",
        "vec_t = vec.fit_transform(bbc_copy['Articles'])\n",
        "vec_df = pd.DataFrame(vec_t.toarray(), columns=vec.get_feature_names())"
      ],
      "execution_count": null,
      "outputs": []
    },
    {
      "cell_type": "code",
      "metadata": {
        "id": "g4YprsupPMGK",
        "outputId": "250f6dd3-88ce-4c9c-df7e-df7eaf94c5f1"
      },
      "source": [
        "# Shape of our doc-term matrix using tf-idf\n",
        "vec_df.shape"
      ],
      "execution_count": null,
      "outputs": [
        {
          "output_type": "execute_result",
          "data": {
            "text/plain": [
              "(2215, 5647)"
            ]
          },
          "metadata": {
            "tags": []
          },
          "execution_count": 59
        }
      ]
    },
    {
      "cell_type": "markdown",
      "metadata": {
        "id": "d57j-JbmPMGL"
      },
      "source": [
        "## <b>Topic-Modeling using Latent Dirichlet Allocation (LDA):</b>\n",
        "* Will be using Latent Dirichlet Allocation for checking the latent features(topics) of our corpus\n",
        "* We will be using pyLDAvis which allows a better visualization\n",
        "* We will be using T-Sne for lowering down the dimensions of our feature-space\n",
        "* Tuning the hyper-parameters of LDA using RandomizedSearchCV"
      ]
    },
    {
      "cell_type": "code",
      "metadata": {
        "id": "HNDmVQtSPMGM"
      },
      "source": [
        "# Importing pyLDAvis\n",
        "import pyLDAvis.sklearn\n",
        "pyLDAvis.enable_notebook()"
      ],
      "execution_count": null,
      "outputs": []
    },
    {
      "cell_type": "code",
      "metadata": {
        "id": "qxXLCw9xPMGM"
      },
      "source": [
        "# Imporing LatentDirichletAllocation and TSNE\n",
        "from sklearn.decomposition import LatentDirichletAllocation\n",
        "from sklearn.manifold import TSNE\n",
        "import warnings\n",
        "warnings.filterwarnings(\"ignore\")"
      ],
      "execution_count": null,
      "outputs": []
    },
    {
      "cell_type": "code",
      "metadata": {
        "id": "MoNWz2p-PMGN"
      },
      "source": [
        "# Topic Modeling using Latent Dirichlet Allocation\n",
        "lda = LatentDirichletAllocation(n_components = 5)\n",
        "lda_model = lda.fit(vec_t)"
      ],
      "execution_count": null,
      "outputs": []
    },
    {
      "cell_type": "code",
      "metadata": {
        "id": "5X_B5y_rPMGN",
        "outputId": "297b6cff-7644-49bc-990c-410a68701a55"
      },
      "source": [
        "# Visualising our topics\n",
        "lda_panel = pyLDAvis.sklearn.prepare(lda_model, vec_t, vec ,mds='tsne')\n",
        "lda_panel"
      ],
      "execution_count": null,
      "outputs": [
        {
          "output_type": "execute_result",
          "data": {
            "text/html": [
              "\n",
              "<link rel=\"stylesheet\" type=\"text/css\" href=\"https://cdn.jsdelivr.net/gh/bmabey/pyLDAvis@3.3.1/pyLDAvis/js/ldavis.v1.0.0.css\">\n",
              "\n",
              "\n",
              "<div id=\"ldavis_el96962544093522848772250429\"></div>\n",
              "<script type=\"text/javascript\">\n",
              "\n",
              "var ldavis_el96962544093522848772250429_data = {\"mdsDat\": {\"x\": [150.22215270996094, 51.16336441040039, -73.1445541381836, -66.4101333618164, 54.41732406616211], \"y\": [-72.2695541381836, -159.968017578125, 21.523815155029297, -110.60643768310547, 12.44344425201416], \"topics\": [1, 2, 3, 4, 5], \"cluster\": [1, 1, 1, 1, 1], \"Freq\": [32.41764938859072, 24.05643522244659, 17.268919262623356, 17.154339636628485, 9.102656489710856]}, \"tinfo\": {\"Term\": [\"film\", \"award\", \"labour\", \"election\", \"mobile\", \"phone\", \"england\", \"technology\", \"party\", \"music\", \"government\", \"tory\", \"computer\", \"minister\", \"rugby\", \"wale\", \"user\", \"star\", \"digital\", \"software\", \"game\", \"band\", \"injury\", \"ireland\", \"actor\", \"player\", \"service\", \"coach\", \"net\", \"network\", \"chelsea\", \"airline\", \"oil\", \"arsenal\", \"yukos\", \"profit\", \"stock\", \"india\", \"club\", \"champion league\", \"football\", \"shareholder\", \"ferguson\", \"striker\", \"bos\", \"deutsche\", \"stock market\", \"investor\", \"takeover\", \"gm\", \"bankruptcy\", \"mourinho\", \"league\", \"fa\", \"gas\", \"nintendo\", \"exchange\", \"gerrard\", \"indian\", \"liverpool\", \"euro\", \"share\", \"manager\", \"china\", \"financial\", \"company\", \"bank\", \"game\", \"goal\", \"car\", \"investment\", \"market\", \"firm\", \"sale\", \"price\", \"executive\", \"cup\", \"analyst\", \"group\", \"player\", \"time\", \"business\", \"world\", \"chief\", \"good\", \"month\", \"labour\", \"election\", \"tory\", \"chancellor\", \"general election\", \"conservative\", \"party\", \"liberal\", \"democrat\", \"prime minister\", \"liberal democrat\", \"kennedy\", \"secretary\", \"immigration\", \"michael howard\", \"blunkett\", \"bush\", \"prime\", \"council\", \"dems\", \"parliament\", \"deficit\", \"asylum\", \"pension\", \"straw\", \"lord\", \"unemployment\", \"labour party\", \"home secretary\", \"dem\", \"howard\", \"minister\", \"tony\", \"government\", \"tax\", \"leader\", \"rate\", \"economy\", \"policy\", \"budget\", \"public\", \"campaign\", \"economic\", \"general\", \"plan\", \"law\", \"issue\", \"people\", \"uk\", \"award\", \"actor\", \"oscar\", \"festival\", \"singer\", \"chart\", \"band\", \"actress\", \"comedy\", \"album\", \"film\", \"nomination\", \"box office\", \"athens\", \"theatre\", \"rock\", \"athletics\", \"indoor\", \"drama\", \"musical\", \"concert\", \"marathon\", \"kenteris\", \"aviator\", \"ceremony\", \"cross country\", \"iaaf\", \"nominee\", \"thanou\", \"angeles\", \"olympic\", \"hollywood\", \"star\", \"song\", \"category\", \"artist\", \"prize\", \"show\", \"music\", \"race\", \"tv\", \"british\", \"director\", \"record\", \"movie\", \"world\", \"top\", \"box\", \"mobile\", \"user\", \"digital\", \"virus\", \"broadband\", \"computer\", \"phone\", \"microsoft\", \"gadget\", \"software\", \"mobile phone\", \"spam\", \"device\", \"bt\", \"web\", \"technology\", \"program\", \"blog\", \"google\", \"pc\", \"internet\", \"download\", \"spyware\", \"wireless\", \"ipod\", \"portable\", \"glazer\", \"site\", \"domain\", \"handset\", \"machine\", \"content\", \"online\", \"network\", \"search\", \"file\", \"net\", \"sony\", \"data\", \"service\", \"music\", \"website\", \"people\", \"consumer\", \"system\", \"video\", \"tv\", \"information\", \"firm\", \"security\", \"rugby\", \"seed\", \"slam\", \"grand slam\", \"robinson\", \"federer\", \"agassi\", \"hodgson\", \"world number\", \"flanker\", \"davenport\", \"ruddock\", \"australian open\", \"lion\", \"safin\", \"henson\", \"stade\", \"bath\", \"gloucester\", \"wilkinson\", \"woodward\", \"melbourne\", \"dallaglio\", \"andy robinson\", \"top seed\", \"scrum\", \"lleyton\", \"serena\", \"coach andy\", \"laporte\", \"wimbledon\", \"dubai\", \"zealand\", \"wale\", \"williams\", \"england\", \"ireland\", \"grand\", \"hewitt\", \"tournament\", \"injury\", \"andy\", \"tennis\", \"captain\", \"coach\", \"france\", \"open\", \"victory\", \"final\", \"australian\", \"nation\", \"player\", \"scotland\", \"game\", \"side\", \"squad\", \"cup\", \"champion\", \"world\"], \"Freq\": [31.0, 19.0, 23.0, 22.0, 15.0, 16.0, 16.0, 15.0, 20.0, 19.0, 25.0, 15.0, 12.0, 20.0, 8.0, 11.0, 11.0, 16.0, 11.0, 11.0, 32.0, 10.0, 10.0, 10.0, 9.0, 20.0, 20.0, 10.0, 13.0, 11.0, 9.799907327007956, 8.29793668395213, 12.062067253333732, 7.457268040911545, 7.385349098094309, 11.58715447268815, 8.75619002887114, 8.685336741171353, 14.923181472432494, 5.05544628062049, 7.784261937234118, 5.023636541358696, 5.018644785206137, 4.983228950084213, 7.709004132860377, 4.946138856541496, 4.6324881366730475, 6.068672757615083, 4.760639304824992, 4.533716764560762, 4.460083679695745, 4.394940524003089, 9.088832830333736, 3.925637725196976, 4.155616788914435, 4.2411763677596905, 6.382353632122598, 3.7715987142772125, 6.268627977874467, 6.873961915439875, 10.5417194229501, 14.061749198556008, 9.264532985252346, 10.099702040095728, 8.566764421053836, 18.458028614145945, 13.541687682672249, 22.83066490184837, 7.4279847841844635, 7.384853655455552, 7.538082066830232, 14.46420871730991, 15.97215582832436, 14.199785517006568, 11.583039678387676, 9.69640122734034, 9.335826205757263, 8.791248431889171, 9.946163834930179, 10.551837265969484, 11.632889134462541, 9.025625039287608, 10.723822088287537, 9.061071458636091, 8.497869482931273, 8.403582171906507, 23.0002179869731, 21.8466224196119, 14.995452929260404, 9.286145434177124, 7.1090881256433525, 7.15486984829185, 18.651583025326815, 6.393723584247365, 6.228332019817349, 11.226696086727838, 5.888069007915182, 6.108964885353715, 9.156462528783667, 5.695334816675058, 5.444479488969421, 5.438855965457829, 6.041965679192485, 11.21827673581025, 8.353022869841034, 4.899796608990201, 5.695376282321887, 5.98817746461345, 4.381013315882294, 6.249500721031052, 4.528998264899776, 12.686223486349093, 3.9343347348768414, 3.799817993703225, 3.7723197396743116, 3.748692556730472, 12.046526740574874, 17.072672985128115, 7.675488129155997, 19.09632232194325, 13.185943943602023, 9.3993997156474, 10.357427251713201, 10.33686843547951, 7.325444751221506, 7.967352743914762, 9.506949837395675, 8.246315047337818, 9.195704020176667, 8.239067841734817, 9.564924917229126, 8.434351032273891, 7.720194211134203, 9.987567721121197, 8.661512531723487, 18.607138004868784, 9.200638478133463, 8.190583977660472, 8.137210423804179, 7.728458372028124, 8.543609039154163, 10.007448014890258, 6.294178961142407, 6.326581191220957, 8.474612832942586, 28.473528275301984, 5.3203897933861155, 5.243131568825502, 4.600335752357127, 4.714928909291554, 5.995951746668353, 4.199381860049138, 4.904168575171121, 4.2424641504750715, 4.62482616546987, 3.866142530131669, 3.586701805932709, 3.4781012105640454, 3.384089624057581, 4.541055823491347, 3.124228922150572, 3.047930637461678, 3.0356017603451573, 2.9889975438163523, 3.3236365226608595, 6.104934976713981, 4.267759034650016, 12.762300303546443, 5.996271945214935, 4.5347296643865205, 4.58221894702671, 6.0350449603812635, 11.047650330635818, 9.581707299765386, 5.607185706231194, 6.970310833480243, 6.5358071399122135, 6.406152580665953, 6.494091516207855, 5.2438670102606135, 6.105086283080416, 5.393332973426655, 4.812480948155438, 15.188475904830266, 10.95829824513077, 10.454900091768318, 8.41058310940146, 7.853324009846712, 11.67519728140667, 15.347337800075085, 7.577074221308203, 5.945608537612436, 10.16279189188952, 5.747720409134845, 5.375232610659239, 6.634958306272704, 5.020396855506172, 5.585107046656802, 13.415800085178773, 5.359191851400791, 5.014180166134558, 4.2982559008075905, 7.293168253406018, 8.016120142327447, 4.367339696664172, 3.6496263576295105, 3.642489447209033, 3.4524946616767034, 3.3962110772274707, 3.385257893343019, 8.681440603181075, 3.146246361624878, 3.07972727917965, 5.208804683516772, 5.446441094985224, 7.9105775242154825, 9.296040259620453, 6.95962430814787, 5.719175830276516, 9.739806738794663, 5.629039873960011, 6.873790631875239, 10.885952336842886, 9.925442379387686, 6.630338348547194, 10.553936333122723, 7.048492671732068, 7.222443799630416, 6.810715602327559, 7.398763811157398, 6.169322441701439, 7.457162932728154, 6.186908085362381, 7.587722300367498, 5.397438857954794, 4.633101046673991, 4.48544379128556, 4.824830424175199, 3.121917874261136, 2.43482481222507, 2.293050571561942, 2.899797600651367, 2.015682615092363, 1.9226402323518064, 1.8469558608001082, 1.7908977670985202, 3.3424054052921273, 1.7644089886283023, 1.7563335486075455, 1.7444899634813895, 2.193695730138974, 1.7294241961144532, 1.8398561801028246, 2.0625839487117115, 1.8442547466266044, 1.5944764936558837, 1.5559519091465572, 1.5421802360960772, 1.535947391931746, 1.5314349019576257, 1.5294465854099515, 1.5096328911479961, 1.5055484694305457, 2.311105372510774, 1.6681153551000596, 2.5486478288170207, 6.849783122927711, 4.830837874104324, 9.402511002393744, 5.968570555614323, 3.973492187925718, 2.5518519205528225, 3.022821505529212, 5.353630972577994, 3.172540108123922, 2.9032959175765973, 3.0189252432679528, 4.900819812500899, 5.193299478469367, 4.691435320116898, 3.8294318836458103, 4.322595124443182, 3.216343842250191, 3.6092973230591996, 4.10279870092825, 3.2306059384770007, 4.3471796662111535, 3.3202774755440907, 2.8180547404540133, 3.189550824487915, 3.137015999922552, 3.0519975925107388], \"Total\": [31.0, 19.0, 23.0, 22.0, 15.0, 16.0, 16.0, 15.0, 20.0, 19.0, 25.0, 15.0, 12.0, 20.0, 8.0, 11.0, 11.0, 16.0, 11.0, 11.0, 32.0, 10.0, 10.0, 10.0, 9.0, 20.0, 20.0, 10.0, 13.0, 11.0, 10.370664243528159, 8.858836541249705, 12.964725600617795, 8.016869477463278, 7.944891447361749, 12.483673470515788, 9.442510213911085, 9.392514134194798, 16.29355893849327, 5.615223137568006, 8.649671105179797, 5.583481705327732, 5.58049853276042, 5.54294136680514, 8.578553462987148, 5.518913776170994, 5.1929853198802665, 6.809489601723737, 5.345049971651499, 5.093280729645571, 5.020909703285606, 4.954460798637756, 10.29392172834123, 4.4851737127330065, 4.75253823178739, 4.853774172978066, 7.306589362528722, 4.331229357540404, 7.198909865935134, 7.909846199181376, 12.17216763409109, 17.146855174228563, 11.12629994733293, 12.226577380183262, 10.493725053384185, 25.12207718826338, 17.706066063625197, 32.42660713723341, 8.954537725627901, 8.9569104657571, 9.229761756160842, 21.50968979533767, 24.445014038313815, 21.734396585741166, 16.800515900760878, 13.373770929550401, 12.971573029797417, 12.358948839320712, 17.326869586211394, 20.134867519863697, 25.849752999361918, 14.15427492383709, 24.694734396470718, 14.667948367975024, 16.596046418898354, 16.79075338882485, 23.580006799413987, 22.41688412945376, 15.557669372854528, 9.851311269738368, 7.671295270391966, 7.740772224434675, 20.199967070398753, 6.970975295289112, 6.790886861377604, 12.260705387676612, 6.450344962053927, 6.710722574400211, 10.065885884008782, 6.26925226001579, 6.006718191456815, 6.001017596909843, 6.712294500751849, 12.475202844533877, 9.310385941277461, 5.461947904878863, 6.367784342819855, 6.73288130163803, 4.94319624302771, 7.058777186746655, 5.156549962080875, 14.465283761724537, 4.499488167697657, 4.362055551231628, 4.334471992149636, 4.3113297943810975, 13.99612672988428, 20.02801489256263, 8.966437789308214, 25.349848777575865, 17.43878679868142, 12.322473014630962, 14.375721465725984, 15.731343977910736, 9.376875309981697, 10.734190814299952, 14.513932137355187, 11.800900182867545, 14.561385125197194, 11.907193217287917, 16.621896788103392, 13.347037345026617, 11.787599220854363, 26.472610439150127, 24.08146596101596, 19.379235699882503, 9.78185591238668, 8.761412772279238, 8.708340438920736, 8.326127259623862, 9.263098349135563, 10.90201886555112, 6.865618757356813, 6.901547597612151, 9.256833592747158, 31.256785141791056, 5.895719094782901, 5.822806321129032, 5.1772998905700724, 5.325428926012482, 6.778442002768018, 4.774217688037394, 5.580586930219122, 4.853093775967869, 5.332254036984946, 4.469130856343037, 4.15860810189287, 4.04860764641067, 3.95462604805284, 5.340999838202095, 3.694825388909355, 3.619317163625699, 3.606526316846528, 3.5594946432317127, 3.9898192394966463, 7.381540037821061, 5.139462968724145, 16.204497220605013, 7.427800984537358, 5.5709181818055855, 5.706964337562896, 8.001083020509324, 19.93092536399257, 19.951014968241115, 8.272726905351515, 15.502928295822944, 14.949606739213225, 14.278182194385947, 15.188011104058802, 8.654371965348092, 24.694734396470718, 16.085664850159944, 7.917742414648813, 15.852123891138186, 11.534504089346111, 11.078869358887264, 9.022179728312087, 8.426264338537054, 12.610212545102868, 16.611096603959904, 8.2871088152414, 6.518678480276333, 11.174609146214324, 6.329505117076757, 5.949153771047708, 7.350141144391594, 5.599159110500083, 6.24824704934294, 15.016636367612444, 6.003723608025995, 5.651212170130619, 4.883591981220123, 8.33508581414298, 9.189391895457545, 5.008186316721002, 4.222349928916327, 4.216040979805937, 4.025575114421433, 3.969665355583256, 3.973137962791721, 10.261807169735977, 3.719357824388929, 3.6527565544715057, 6.1850457074406116, 6.491515999848431, 9.554796290614995, 11.565753900728554, 8.77163265008144, 7.073998355427129, 13.138503400963396, 6.956294548686866, 9.469704350922528, 20.590335931228932, 19.951014968241115, 9.789518972775117, 26.472610439150127, 11.641520899251303, 12.911342317538638, 11.24083473252251, 15.502928295822944, 9.861183414303104, 24.445014038313815, 12.421189385917963, 8.304393300258239, 5.989791413118228, 5.237201599353498, 5.079247171809896, 5.563269415884029, 3.7135960708901994, 3.026171308093649, 2.9038060142696036, 3.745979272509215, 2.6207856231237487, 2.516531608004465, 2.438418940553361, 2.3830700959973337, 4.453785992194316, 2.355728493119914, 2.3479254293375798, 2.3382144993861207, 2.942884569754334, 2.3263767522280663, 2.4810140760801045, 2.8059641037155774, 2.515524153240386, 2.1860609007127554, 2.1472977439492724, 2.133673758019638, 2.1276359782031067, 2.123676345674616, 2.127478268276548, 2.1018615248061234, 2.096758934393901, 3.2409562227979825, 2.344145849675602, 3.7376168943610044, 11.460950713610924, 7.798145111154565, 16.75801801731174, 10.252680786617542, 6.513152928462937, 3.920711902566883, 4.9421435887757985, 10.773798915985404, 5.317046079437242, 4.766006062555056, 5.094335565127022, 10.382679047606718, 11.355662391412487, 11.118022498969058, 8.397256722218495, 12.336885836834597, 6.914347681324818, 9.278693072318914, 20.134867519863697, 9.588566031666442, 32.42660713723341, 12.022551924746216, 6.17813386015332, 12.971573029797417, 12.594853426808195, 24.694734396470718], \"Category\": [\"Default\", \"Default\", \"Default\", \"Default\", \"Default\", \"Default\", \"Default\", \"Default\", \"Default\", \"Default\", \"Default\", \"Default\", \"Default\", \"Default\", \"Default\", \"Default\", \"Default\", \"Default\", \"Default\", \"Default\", \"Default\", \"Default\", \"Default\", \"Default\", \"Default\", \"Default\", \"Default\", \"Default\", \"Default\", \"Default\", \"Topic1\", \"Topic1\", \"Topic1\", \"Topic1\", \"Topic1\", \"Topic1\", \"Topic1\", \"Topic1\", \"Topic1\", \"Topic1\", \"Topic1\", \"Topic1\", \"Topic1\", \"Topic1\", \"Topic1\", \"Topic1\", \"Topic1\", \"Topic1\", \"Topic1\", \"Topic1\", \"Topic1\", \"Topic1\", \"Topic1\", \"Topic1\", \"Topic1\", \"Topic1\", \"Topic1\", \"Topic1\", \"Topic1\", \"Topic1\", \"Topic1\", \"Topic1\", \"Topic1\", \"Topic1\", \"Topic1\", \"Topic1\", \"Topic1\", \"Topic1\", \"Topic1\", \"Topic1\", \"Topic1\", \"Topic1\", \"Topic1\", \"Topic1\", \"Topic1\", \"Topic1\", \"Topic1\", \"Topic1\", \"Topic1\", \"Topic1\", \"Topic1\", \"Topic1\", \"Topic1\", \"Topic1\", \"Topic1\", \"Topic1\", \"Topic2\", \"Topic2\", \"Topic2\", \"Topic2\", \"Topic2\", \"Topic2\", \"Topic2\", \"Topic2\", \"Topic2\", \"Topic2\", \"Topic2\", \"Topic2\", \"Topic2\", \"Topic2\", \"Topic2\", \"Topic2\", \"Topic2\", \"Topic2\", \"Topic2\", \"Topic2\", \"Topic2\", \"Topic2\", \"Topic2\", \"Topic2\", \"Topic2\", \"Topic2\", \"Topic2\", \"Topic2\", \"Topic2\", \"Topic2\", \"Topic2\", \"Topic2\", \"Topic2\", \"Topic2\", \"Topic2\", \"Topic2\", \"Topic2\", \"Topic2\", \"Topic2\", \"Topic2\", \"Topic2\", \"Topic2\", \"Topic2\", \"Topic2\", \"Topic2\", \"Topic2\", \"Topic2\", \"Topic2\", \"Topic2\", \"Topic3\", \"Topic3\", \"Topic3\", \"Topic3\", \"Topic3\", \"Topic3\", \"Topic3\", \"Topic3\", \"Topic3\", \"Topic3\", \"Topic3\", \"Topic3\", \"Topic3\", \"Topic3\", \"Topic3\", \"Topic3\", \"Topic3\", \"Topic3\", \"Topic3\", \"Topic3\", \"Topic3\", \"Topic3\", \"Topic3\", \"Topic3\", \"Topic3\", \"Topic3\", \"Topic3\", \"Topic3\", \"Topic3\", \"Topic3\", \"Topic3\", \"Topic3\", \"Topic3\", \"Topic3\", \"Topic3\", \"Topic3\", \"Topic3\", \"Topic3\", \"Topic3\", \"Topic3\", \"Topic3\", \"Topic3\", \"Topic3\", \"Topic3\", \"Topic3\", \"Topic3\", \"Topic3\", \"Topic3\", \"Topic4\", \"Topic4\", \"Topic4\", \"Topic4\", \"Topic4\", \"Topic4\", \"Topic4\", \"Topic4\", \"Topic4\", \"Topic4\", \"Topic4\", \"Topic4\", \"Topic4\", \"Topic4\", \"Topic4\", \"Topic4\", \"Topic4\", \"Topic4\", \"Topic4\", \"Topic4\", \"Topic4\", \"Topic4\", \"Topic4\", \"Topic4\", \"Topic4\", \"Topic4\", \"Topic4\", \"Topic4\", \"Topic4\", \"Topic4\", \"Topic4\", \"Topic4\", \"Topic4\", \"Topic4\", \"Topic4\", \"Topic4\", \"Topic4\", \"Topic4\", \"Topic4\", \"Topic4\", \"Topic4\", \"Topic4\", \"Topic4\", \"Topic4\", \"Topic4\", \"Topic4\", \"Topic4\", \"Topic4\", \"Topic4\", \"Topic4\", \"Topic5\", \"Topic5\", \"Topic5\", \"Topic5\", \"Topic5\", \"Topic5\", \"Topic5\", \"Topic5\", \"Topic5\", \"Topic5\", \"Topic5\", \"Topic5\", \"Topic5\", \"Topic5\", \"Topic5\", \"Topic5\", \"Topic5\", \"Topic5\", \"Topic5\", \"Topic5\", \"Topic5\", \"Topic5\", \"Topic5\", \"Topic5\", \"Topic5\", \"Topic5\", \"Topic5\", \"Topic5\", \"Topic5\", \"Topic5\", \"Topic5\", \"Topic5\", \"Topic5\", \"Topic5\", \"Topic5\", \"Topic5\", \"Topic5\", \"Topic5\", \"Topic5\", \"Topic5\", \"Topic5\", \"Topic5\", \"Topic5\", \"Topic5\", \"Topic5\", \"Topic5\", \"Topic5\", \"Topic5\", \"Topic5\", \"Topic5\", \"Topic5\", \"Topic5\", \"Topic5\", \"Topic5\", \"Topic5\", \"Topic5\", \"Topic5\", \"Topic5\", \"Topic5\"], \"logprob\": [30.0, 29.0, 28.0, 27.0, 26.0, 25.0, 24.0, 23.0, 22.0, 21.0, 20.0, 19.0, 18.0, 17.0, 16.0, 15.0, 14.0, 13.0, 12.0, 11.0, 10.0, 9.0, 8.0, 7.0, 6.0, 5.0, 4.0, 3.0, 2.0, 1.0, -6.229, -6.3954, -6.0213, -6.5022, -6.5119, -6.0615, -6.3416, -6.3498, -5.8085, -6.8909, -6.4593, -6.8973, -6.8982, -6.9053, -6.469, -6.9128, -6.9783, -6.7083, -6.951, -6.9999, -7.0162, -7.031, -6.3044, -7.1439, -7.0869, -7.0666, -6.6579, -7.1839, -6.6758, -6.5837, -6.1561, -5.8679, -6.2852, -6.1989, -6.3635, -5.5959, -5.9056, -5.3833, -6.5062, -6.512, -6.4914, -5.8397, -5.7406, -5.8582, -6.0619, -6.2397, -6.2775, -6.3376, -6.2142, -6.1551, -6.0576, -6.3113, -6.1389, -6.3074, -6.3716, -6.3827, -5.0776, -5.1291, -5.5054, -5.9846, -6.2517, -6.2453, -5.2872, -6.3578, -6.384, -5.7948, -6.4402, -6.4033, -5.9986, -6.4735, -6.5185, -6.5195, -6.4144, -5.7956, -6.0905, -6.6239, -6.4735, -6.4233, -6.7358, -6.3806, -6.7026, -5.6726, -6.8434, -6.8782, -6.8854, -6.8917, -5.7243, -5.3756, -6.1751, -5.2636, -5.634, -5.9725, -5.8754, -5.8774, -6.2218, -6.1378, -5.9611, -6.1033, -5.9944, -6.1042, -5.955, -6.0808, -6.1693, -5.9118, -6.0542, -4.9581, -5.6623, -5.7786, -5.7852, -5.8367, -5.7364, -5.5783, -6.042, -6.0369, -5.7445, -4.5326, -6.2101, -6.2247, -6.3555, -6.3309, -6.0905, -6.4467, -6.2915, -6.4365, -6.3502, -6.5294, -6.6044, -6.6351, -6.6625, -6.3685, -6.7424, -6.7671, -6.7712, -6.7867, -6.6806, -6.0725, -6.4305, -5.3351, -6.0905, -6.3698, -6.3594, -6.084, -5.4794, -5.6218, -6.1576, -5.94, -6.0043, -6.0244, -6.0107, -6.2246, -6.0725, -6.1964, -6.3104, -5.1544, -5.4809, -5.5279, -5.7455, -5.814, -5.4175, -5.144, -5.8498, -6.0923, -5.5562, -6.1262, -6.1932, -5.9826, -6.2614, -6.1549, -5.2785, -6.1961, -6.2627, -6.4167, -5.888, -5.7935, -6.4008, -6.5803, -6.5823, -6.6359, -6.6523, -6.6555, -5.7138, -6.7287, -6.7501, -6.2246, -6.18, -5.8068, -5.6454, -5.9348, -6.1311, -5.5987, -6.147, -5.9472, -5.4875, -5.5799, -5.9833, -5.5185, -5.9221, -5.8978, -5.9565, -5.8736, -6.0554, -5.8658, -6.0525, -5.2147, -5.5553, -5.708, -5.7404, -5.6675, -6.1028, -6.3514, -6.4114, -6.1766, -6.5403, -6.5876, -6.6277, -6.6586, -6.0346, -6.6735, -6.678, -6.6848, -6.4557, -6.6935, -6.6316, -6.5173, -6.6292, -6.7747, -6.7992, -6.8081, -6.8121, -6.8151, -6.8164, -6.8294, -6.8321, -6.4035, -6.7296, -6.3057, -5.3171, -5.6662, -5.0003, -5.4548, -5.8616, -6.3044, -6.1351, -5.5635, -6.0867, -6.1754, -6.1364, -5.6519, -5.5939, -5.6955, -5.8986, -5.7774, -6.073, -5.9578, -5.8296, -6.0686, -5.7717, -6.0412, -6.2052, -6.0814, -6.098, -6.1255], \"loglift\": [30.0, 29.0, 28.0, 27.0, 26.0, 25.0, 24.0, 23.0, 22.0, 21.0, 20.0, 19.0, 18.0, 17.0, 16.0, 15.0, 14.0, 13.0, 12.0, 11.0, 10.0, 9.0, 8.0, 7.0, 6.0, 5.0, 4.0, 3.0, 2.0, 1.0, 1.0699, 1.0611, 1.0543, 1.0541, 1.0534, 1.0519, 1.051, 1.0482, 1.0386, 1.0215, 1.021, 1.0208, 1.0203, 1.02, 1.0196, 1.0169, 1.0123, 1.0113, 1.0107, 1.0101, 1.008, 1.0066, 1.002, 0.9932, 0.9922, 0.9916, 0.9912, 0.9881, 0.9881, 0.9861, 0.9827, 0.9281, 0.9433, 0.9354, 0.9236, 0.8182, 0.8583, 0.7756, 0.9396, 0.9335, 0.924, 0.7296, 0.7009, 0.7008, 0.7546, 0.8049, 0.7976, 0.7858, 0.5714, 0.4803, 0.328, 0.6765, 0.2923, 0.6448, 0.4571, 0.4343, 1.3999, 1.399, 1.388, 1.3657, 1.3487, 1.3461, 1.345, 1.3383, 1.3383, 1.3367, 1.3336, 1.3308, 1.3301, 1.3288, 1.3265, 1.3264, 1.3196, 1.3186, 1.3163, 1.3162, 1.3132, 1.3076, 1.304, 1.303, 1.295, 1.2935, 1.2905, 1.2868, 1.2859, 1.2849, 1.2748, 1.2651, 1.2693, 1.1415, 1.1452, 1.154, 1.0969, 1.0048, 1.1779, 1.1267, 1.0017, 1.0664, 0.9651, 1.0565, 0.8721, 0.9658, 1.0016, 0.45, 0.4022, 1.7156, 1.695, 1.6889, 1.6884, 1.6818, 1.6754, 1.6706, 1.6694, 1.6693, 1.668, 1.663, 1.6536, 1.6514, 1.6381, 1.6345, 1.6336, 1.628, 1.6271, 1.6218, 1.6139, 1.6113, 1.6083, 1.6044, 1.6005, 1.594, 1.5885, 1.5844, 1.5839, 1.5816, 1.5736, 1.5664, 1.5704, 1.5175, 1.5422, 1.5505, 1.5368, 1.4743, 1.1662, 1.0228, 1.3673, 0.9569, 0.9289, 0.9548, 0.9066, 1.2553, 0.3588, 0.6635, 1.2584, 1.7202, 1.7117, 1.705, 1.6927, 1.6925, 1.6859, 1.6838, 1.6733, 1.6709, 1.668, 1.6665, 1.6615, 1.6606, 1.6538, 1.6507, 1.6502, 1.6494, 1.6433, 1.6352, 1.6294, 1.6263, 1.626, 1.6172, 1.6167, 1.6093, 1.6069, 1.6028, 1.5957, 1.5956, 1.5923, 1.5911, 1.5874, 1.5741, 1.5445, 1.5315, 1.5503, 1.4636, 1.5512, 1.4425, 1.1256, 1.0647, 1.3733, 0.8433, 1.2612, 1.182, 1.2619, 1.0232, 1.2939, 0.5757, 1.066, 2.3064, 2.2925, 2.274, 2.2723, 2.2542, 2.2231, 2.1792, 2.1605, 2.1406, 2.1341, 2.1274, 2.1188, 2.1109, 2.1095, 2.1076, 2.1063, 2.1037, 2.1028, 2.1001, 2.0976, 2.0888, 2.0862, 2.081, 2.0745, 2.072, 2.0707, 2.0697, 2.0666, 2.0656, 2.0654, 2.0585, 2.0564, 2.0137, 1.8819, 1.9177, 1.8187, 1.8556, 1.9024, 1.9671, 1.905, 1.6973, 1.8802, 1.9009, 1.8734, 1.6459, 1.6143, 1.5338, 1.6114, 1.3479, 1.6313, 1.4524, 0.8058, 1.3087, 0.3872, 1.1099, 1.6116, 0.9937, 1.0066, 0.3058]}, \"token.table\": {\"Topic\": [3, 3, 5, 1, 3, 1, 2, 4, 1, 3, 5, 5, 3, 1, 3, 4, 2, 3, 3, 1, 3, 5, 5, 3, 3, 3, 1, 2, 4, 1, 5, 4, 2, 1, 1, 3, 4, 3, 1, 2, 3, 4, 4, 4, 1, 2, 3, 2, 1, 2, 4, 1, 2, 4, 5, 1, 5, 1, 3, 4, 3, 3, 1, 3, 5, 1, 2, 3, 1, 1, 2, 3, 4, 1, 2, 4, 1, 1, 3, 5, 5, 3, 1, 2, 3, 4, 4, 3, 2, 1, 2, 4, 4, 2, 3, 1, 5, 5, 1, 2, 4, 5, 2, 2, 2, 2, 1, 4, 4, 1, 2, 3, 4, 4, 4, 3, 5, 1, 2, 1, 2, 2, 1, 2, 5, 1, 2, 1, 1, 2, 3, 4, 1, 5, 1, 3, 4, 3, 4, 1, 2, 3, 5, 1, 2, 4, 1, 2, 4, 5, 1, 1, 2, 3, 4, 5, 4, 1, 3, 4, 5, 1, 1, 2, 2, 1, 4, 5, 1, 1, 5, 1, 2, 3, 4, 5, 4, 1, 2, 1, 3, 5, 5, 1, 2, 3, 4, 4, 5, 1, 2, 5, 5, 3, 2, 2, 3, 3, 2, 1, 1, 3, 1, 2, 4, 1, 3, 5, 4, 1, 2, 1, 4, 1, 2, 3, 5, 1, 2, 4, 2, 3, 2, 2, 5, 1, 2, 4, 1, 2, 1, 2, 2, 5, 1, 2, 5, 1, 2, 3, 4, 1, 2, 4, 3, 1, 2, 4, 5, 2, 4, 1, 2, 4, 4, 1, 2, 3, 4, 1, 3, 4, 3, 4, 3, 1, 2, 5, 1, 2, 4, 1, 4, 1, 3, 3, 1, 1, 3, 1, 4, 1, 2, 3, 4, 5, 3, 2, 2, 3, 4, 2, 1, 2, 3, 4, 1, 4, 1, 2, 3, 4, 1, 4, 5, 1, 2, 4, 1, 2, 4, 1, 2, 1, 2, 1, 3, 1, 4, 1, 2, 3, 4, 1, 2, 3, 1, 2, 4, 1, 2, 3, 4, 5, 3, 5, 5, 5, 1, 3, 4, 5, 1, 2, 5, 5, 1, 2, 4, 2, 1, 2, 4, 5, 5, 1, 2, 4, 1, 2, 4, 1, 1, 2, 3, 4, 1, 2, 5, 3, 1, 4, 5, 1, 4, 3, 4, 3, 4, 4, 4, 1, 3, 5, 5, 1, 3, 5, 1, 1, 2, 1, 1, 2, 4, 1, 1, 2, 1, 4, 1, 5, 3, 3, 1, 2, 3, 4, 5, 1, 2, 1, 2, 3, 4, 5, 5, 2, 1, 5, 2, 3, 4, 1, 2, 3, 4, 2, 4, 1, 3, 5, 1, 3, 4, 4, 1, 2, 5, 4, 1, 2, 3, 4, 5, 1, 2, 3, 5, 5, 4, 5, 1, 2, 3, 4, 5, 5, 1, 5], \"Freq\": [0.9200708005321748, 0.8739197750487872, 0.6609011177427062, 0.9030531224669657, 0.8642264031048476, 0.728217271307571, 0.08091303014528566, 0.24273909043585698, 0.18807435276277318, 0.18807435276277318, 0.5642230582883195, 0.9314032046257521, 0.7519137634863073, 0.873158783447596, 0.8761225240344154, 0.1752245048068831, 0.8091930409685694, 0.9657543711360035, 0.8378336015181447, 0.28925360600564876, 0.14462680300282438, 0.43388040900847313, 0.8392535340690364, 0.7586052293053411, 0.9804308226724957, 0.9172613002531691, 0.7906894704725616, 0.16943345795840606, 0.056477819319468686, 0.796668380110971, 0.6796053166865991, 0.8847659315336647, 0.8331920243951115, 0.9325581561642807, 0.1262986275165854, 0.6314931375829271, 0.2525972550331708, 0.8586924799227238, 0.13378278337944138, 0.33445695844860346, 0.46823974182804484, 0.06689139168972069, 0.949412417957557, 0.8929912333842269, 0.09316025933392322, 0.7452820746713857, 0.09316025933392322, 0.8938821142796901, 0.6358503030659083, 0.14130006734797962, 0.21195010102196946, 0.08473929823182406, 0.6779143858545925, 0.16947859646364813, 0.08473929823182406, 0.3925929052830528, 0.5888893579245792, 0.7815194789276385, 0.1116456398468055, 0.1116456398468055, 0.897518117629122, 0.9361543065844983, 0.3969875496413067, 0.31759003971304534, 0.23819252978478403, 0.8904365645860222, 0.9135839639588429, 0.9715971547295388, 0.9642583893544261, 0.6135827434223843, 0.20452758114079478, 0.06817586038026492, 0.13635172076052984, 0.8178903783987758, 0.08178903783987758, 0.08178903783987758, 0.9206091840722865, 0.38525702101154985, 0.09631425525288746, 0.48157127626443735, 0.9515374711397702, 0.8693702267699965, 0.7165012616237524, 0.039805625645764016, 0.039805625645764016, 0.1990281282288201, 0.9516096542448967, 0.8950286148642974, 0.9043025420517686, 0.08589942917718875, 0.25769828753156626, 0.6012960042403213, 0.7702361051126954, 0.8592554648601747, 0.8119463531362019, 0.6938248722283574, 0.23127495740945248, 0.9148875950106921, 0.10559991768936071, 0.21119983537872142, 0.739199423825525, 0.7947446372771533, 0.891148934786697, 0.9277879890360394, 0.8835370287383695, 0.9154243297585776, 0.9059753789936876, 0.9523626638573107, 0.9026191821621387, 0.350184633584936, 0.14007385343397438, 0.4202215603019232, 0.14007385343397438, 0.806590852949967, 0.7986923303242661, 0.8242165069646251, 0.8531892332026921, 0.343373927480837, 0.6180730694655066, 0.31783679811596394, 0.6356735962319279, 0.9814031188702979, 0.17901878353996714, 0.23869171138662287, 0.5370563506199014, 0.9037009948163914, 0.08215463589239921, 0.8211765712153656, 0.7477322628507276, 0.1495464525701455, 0.07477322628507276, 0.07477322628507276, 0.8918272192321912, 0.8078423023753522, 0.8959772985598701, 0.9186595374986828, 0.848176617880726, 0.8958054986455835, 0.0639861070461131, 0.32423093257919955, 0.08105773314479989, 0.24317319943439966, 0.32423093257919955, 0.8576554039880753, 0.09529504488756392, 0.09529504488756392, 0.6545302029658258, 0.04090813768536411, 0.28635696379754877, 0.7631299494142424, 0.9248906580053956, 0.2641853814066096, 0.08806179380220319, 0.17612358760440638, 0.08806179380220319, 0.44030896901101596, 0.9204319584336447, 0.7092940652921582, 0.03083887240400688, 0.12335548961602752, 0.12335548961602752, 0.8416555122578433, 0.25194854448522214, 0.6718627852939257, 0.9124925782764628, 0.9235253249833667, 0.7550706842034887, 0.8597059775827446, 0.9816855314684251, 0.7817265630548397, 0.11167522329354852, 0.48204251772218415, 0.18076594414581904, 0.12051062943054604, 0.12051062943054604, 0.12051062943054604, 0.8190692456253552, 0.23668780246561152, 0.7495113744744365, 0.15353547060593797, 0.30707094121187595, 0.6141418824237519, 0.7875182807011681, 0.5771382966925505, 0.23085531867702017, 0.11542765933851008, 0.11542765933851008, 0.8212975475542063, 0.8518158093991341, 0.25505572070860444, 0.25505572070860444, 0.7651671621258133, 0.6887512423942208, 0.7782914332376223, 0.9228344322548597, 0.8573800617550722, 0.07144833847958935, 0.8288856334974275, 0.9570519339709722, 0.9582098968831153, 0.8334595253639286, 0.8959631061250531, 0.10140770716723056, 0.20281541433446112, 0.6084462430033833, 0.3712710837831846, 0.09281777094579614, 0.4640888547289807, 0.8705690312276834, 0.8667612676632764, 0.10834515845790955, 0.8811233074621592, 0.7452351315598711, 0.1950709323370848, 0.0975354661685424, 0.0975354661685424, 0.5852127970112544, 0.2545047506104946, 0.6786793349613189, 0.08483491687016487, 0.8940914981180349, 0.7409954883278643, 0.9754026025374852, 0.9169988673964957, 0.9538530954575994, 0.29969197632390554, 0.5993839526478111, 0.07492299408097639, 0.16230508256137552, 0.7303728715261898, 0.8743023540990403, 0.8607117004208459, 0.9301828096476678, 0.6735842281730163, 0.8849729594899658, 0.12642470849856655, 0.9417630911948927, 0.06913103237186555, 0.8987034208342521, 0.06913103237186555, 0.8084014632236264, 0.8088942454007253, 0.08987713837785836, 0.08987713837785836, 0.9618602912304536, 0.6508694515452551, 0.1394720253311261, 0.18596270044150146, 0.7950629285048563, 0.8324012947887847, 0.9653547670674533, 0.1497901822069268, 0.8488110325059186, 0.9462454433872707, 0.9479414091651864, 0.47645271267723044, 0.17866976725396141, 0.11911317816930761, 0.17866976725396141, 0.8073532443933782, 0.5777426738785767, 0.34664560432714603, 0.5012276325750059, 0.5012276325750059, 0.937689758462293, 0.3233213963020167, 0.21554759753467775, 0.4310951950693555, 0.15222433933025795, 0.07611216966512897, 0.7611216966512897, 0.1729243088834888, 0.7781593899756997, 0.8241009691527887, 0.8480729694914536, 0.8318253456204191, 0.9255884289157786, 0.13547308486796308, 0.8128385092077784, 0.10465947881926375, 0.83727583055411, 0.1798881051181048, 0.1798881051181048, 0.0899440525590524, 0.1798881051181048, 0.44972026279526195, 0.9130947494348951, 0.9422429650535262, 0.9405955927444457, 0.04950503119707609, 0.8398233870756789, 0.8500055804658939, 0.15109956795512816, 0.37774891988782044, 0.03777489198878204, 0.4155238118766025, 0.060200721472031586, 0.9030108220804738, 0.3008080283339622, 0.6016160566679244, 0.060161605666792434, 0.060161605666792434, 0.5463159858960157, 0.2483254481345526, 0.19866035850764208, 0.21329066814730885, 0.746517338515581, 0.7557312093777777, 0.7142637804031085, 0.1785659451007771, 0.11904396340051808, 0.08015901724901885, 0.8817491897392072, 0.08156137582468236, 0.897175134071506, 0.12498308009511733, 0.749898480570704, 0.9612555173236357, 0.8328164863079005, 0.20669794867503613, 0.6889931622501204, 0.06889931622501204, 0.06889931622501204, 0.1208791262471282, 0.1208791262471282, 0.7252747574827693, 0.13912345232678022, 0.695617261633901, 0.13912345232678022, 0.263365622568649, 0.19752421692648672, 0.39504843385297345, 0.06584140564216225, 0.8987520873470906, 0.885159155680592, 0.8202036027271554, 0.9633455101110429, 0.8489942732539653, 0.6441402660879341, 0.13803005701884302, 0.184040076025124, 0.046010019006281, 0.3128726433225194, 0.3128726433225194, 0.3128726433225194, 0.9400104249454827, 0.11400386221038515, 0.11400386221038515, 0.798027035472696, 0.8941090832648811, 0.24152276459137903, 0.24152276459137903, 0.48304552918275806, 0.8347536091239357, 0.9400801079017286, 0.14569941986473192, 0.3399653130177078, 0.5342312061706836, 0.8164762493032406, 0.05831973209308861, 0.11663946418617722, 0.8954985910008487, 0.05017328507017597, 0.1505198552105279, 0.5519061357719356, 0.25086642535087983, 0.5822391156067112, 0.08317701651524445, 0.24953104954573338, 0.9608308581583469, 0.09744872257482974, 0.8770385031734677, 0.9547083313762871, 0.08948858854170974, 0.8948858854170973, 0.8077760850742168, 0.13462934751236946, 0.14375469483085201, 0.8625281689851122, 0.8404556668770469, 0.9473397675087072, 0.4855835221293749, 0.16186117404312497, 0.4855835221293749, 0.8553535189030279, 0.12342252726341162, 0.8022464272121755, 0.06171126363170581, 0.9531363796399012, 0.9628373068682744, 0.9696405613768745, 0.9020481490104445, 0.07745128085107077, 0.30980512340428307, 0.5421589659574954, 0.9354449493491103, 0.22937375438883442, 0.7454647017637118, 0.06659280916975378, 0.8657065192067991, 0.20981928828346894, 0.6294578648504068, 0.8428162704794128, 0.9388915089218638, 0.4642210701315487, 0.19342544588814528, 0.15474035671051622, 0.11605526753288717, 0.07737017835525811, 0.11152701033541133, 0.8922160826832907, 0.3108357687777067, 0.062167153755541334, 0.3108357687777067, 0.12433430751108267, 0.12433430751108267, 0.937350423176359, 0.9641546969864544, 0.20234134885743102, 0.607024046572293, 0.06450394279830583, 0.4515275995881408, 0.4515275995881408, 0.20762855584017184, 0.3737314005123093, 0.20762855584017184, 0.20762855584017184, 0.8889900030666732, 0.9536604187569877, 0.3572595312064511, 0.11908651040215038, 0.4763460416086015, 0.2668840945877675, 0.08896136486258918, 0.6227295540381242, 0.8867036836891609, 0.08725279647284487, 0.34901118589137947, 0.610769575309914, 0.9602693287601288, 0.20430013012509063, 0.10215006506254531, 0.10215006506254531, 0.7150504554378172, 0.8061219882959769, 0.12823562343942374, 0.12823562343942374, 0.12823562343942374, 0.6411781171971187, 0.6171018250512992, 0.9487573814294658, 0.7127674931235426, 0.44543908929719367, 0.08098892532676248, 0.24296677598028746, 0.12148338799014373, 0.12148338799014373, 0.8008586758651426, 0.8810693067838558, 0.8026504815210308], \"Term\": [\"actor\", \"actress\", \"agassi\", \"airline\", \"album\", \"analyst\", \"analyst\", \"analyst\", \"andy\", \"andy\", \"andy\", \"andy robinson\", \"angeles\", \"arsenal\", \"artist\", \"artist\", \"asylum\", \"athens\", \"athletics\", \"australian\", \"australian\", \"australian\", \"australian open\", \"aviator\", \"award\", \"band\", \"bank\", \"bank\", \"bank\", \"bankruptcy\", \"bath\", \"blog\", \"blunkett\", \"bos\", \"box\", \"box\", \"box\", \"box office\", \"british\", \"british\", \"british\", \"british\", \"broadband\", \"bt\", \"budget\", \"budget\", \"budget\", \"bush\", \"business\", \"business\", \"business\", \"campaign\", \"campaign\", \"campaign\", \"campaign\", \"captain\", \"captain\", \"car\", \"car\", \"car\", \"category\", \"ceremony\", \"champion\", \"champion\", \"champion\", \"champion league\", \"chancellor\", \"chart\", \"chelsea\", \"chief\", \"chief\", \"chief\", \"chief\", \"china\", \"china\", \"china\", \"club\", \"coach\", \"coach\", \"coach\", \"coach andy\", \"comedy\", \"company\", \"company\", \"company\", \"company\", \"computer\", \"concert\", \"conservative\", \"consumer\", \"consumer\", \"consumer\", \"content\", \"council\", \"cross country\", \"cup\", \"cup\", \"dallaglio\", \"data\", \"data\", \"data\", \"davenport\", \"deficit\", \"dem\", \"democrat\", \"dems\", \"deutsche\", \"device\", \"digital\", \"director\", \"director\", \"director\", \"director\", \"domain\", \"download\", \"drama\", \"dubai\", \"economic\", \"economic\", \"economy\", \"economy\", \"election\", \"england\", \"england\", \"england\", \"euro\", \"euro\", \"exchange\", \"executive\", \"executive\", \"executive\", \"executive\", \"fa\", \"federer\", \"ferguson\", \"festival\", \"file\", \"film\", \"film\", \"final\", \"final\", \"final\", \"final\", \"financial\", \"financial\", \"financial\", \"firm\", \"firm\", \"firm\", \"flanker\", \"football\", \"france\", \"france\", \"france\", \"france\", \"france\", \"gadget\", \"game\", \"game\", \"game\", \"game\", \"gas\", \"general\", \"general\", \"general election\", \"gerrard\", \"glazer\", \"gloucester\", \"gm\", \"goal\", \"goal\", \"good\", \"good\", \"good\", \"good\", \"good\", \"google\", \"government\", \"government\", \"grand\", \"grand\", \"grand\", \"grand slam\", \"group\", \"group\", \"group\", \"group\", \"handset\", \"henson\", \"hewitt\", \"hewitt\", \"hewitt\", \"hodgson\", \"hollywood\", \"home secretary\", \"howard\", \"howard\", \"iaaf\", \"immigration\", \"india\", \"indian\", \"indoor\", \"information\", \"information\", \"information\", \"injury\", \"injury\", \"injury\", \"internet\", \"investment\", \"investment\", \"investor\", \"ipod\", \"ireland\", \"ireland\", \"ireland\", \"ireland\", \"issue\", \"issue\", \"issue\", \"kennedy\", \"kenteris\", \"labour\", \"labour party\", \"laporte\", \"law\", \"law\", \"law\", \"leader\", \"leader\", \"league\", \"liberal\", \"liberal democrat\", \"lion\", \"liverpool\", \"liverpool\", \"lleyton\", \"lord\", \"lord\", \"lord\", \"machine\", \"manager\", \"manager\", \"manager\", \"marathon\", \"market\", \"market\", \"market\", \"melbourne\", \"michael howard\", \"microsoft\", \"minister\", \"minister\", \"mobile\", \"mobile phone\", \"month\", \"month\", \"month\", \"month\", \"mourinho\", \"movie\", \"movie\", \"music\", \"music\", \"musical\", \"nation\", \"nation\", \"nation\", \"net\", \"net\", \"net\", \"network\", \"network\", \"nintendo\", \"nomination\", \"nominee\", \"oil\", \"olympic\", \"olympic\", \"online\", \"online\", \"open\", \"open\", \"open\", \"open\", \"open\", \"oscar\", \"parliament\", \"party\", \"party\", \"pc\", \"pension\", \"people\", \"people\", \"people\", \"people\", \"phone\", \"phone\", \"plan\", \"plan\", \"plan\", \"plan\", \"player\", \"player\", \"player\", \"policy\", \"policy\", \"portable\", \"price\", \"price\", \"price\", \"prime\", \"prime\", \"prime minister\", \"prime minister\", \"prize\", \"prize\", \"profit\", \"program\", \"public\", \"public\", \"public\", \"public\", \"race\", \"race\", \"race\", \"rate\", \"rate\", \"rate\", \"record\", \"record\", \"record\", \"record\", \"robinson\", \"rock\", \"ruddock\", \"rugby\", \"safin\", \"sale\", \"sale\", \"sale\", \"sale\", \"scotland\", \"scotland\", \"scotland\", \"scrum\", \"search\", \"search\", \"search\", \"secretary\", \"security\", \"security\", \"security\", \"seed\", \"serena\", \"service\", \"service\", \"service\", \"share\", \"share\", \"share\", \"shareholder\", \"show\", \"show\", \"show\", \"show\", \"side\", \"side\", \"side\", \"singer\", \"site\", \"site\", \"slam\", \"software\", \"software\", \"song\", \"song\", \"sony\", \"sony\", \"spam\", \"spyware\", \"squad\", \"squad\", \"squad\", \"stade\", \"star\", \"star\", \"star\", \"stock\", \"stock market\", \"straw\", \"striker\", \"system\", \"system\", \"system\", \"takeover\", \"tax\", \"tax\", \"technology\", \"technology\", \"tennis\", \"tennis\", \"thanou\", \"theatre\", \"time\", \"time\", \"time\", \"time\", \"time\", \"tony\", \"tony\", \"top\", \"top\", \"top\", \"top\", \"top\", \"top seed\", \"tory\", \"tournament\", \"tournament\", \"tv\", \"tv\", \"tv\", \"uk\", \"uk\", \"uk\", \"uk\", \"unemployment\", \"user\", \"victory\", \"victory\", \"victory\", \"video\", \"video\", \"video\", \"virus\", \"wale\", \"wale\", \"wale\", \"web\", \"website\", \"website\", \"website\", \"website\", \"wilkinson\", \"williams\", \"williams\", \"williams\", \"williams\", \"wimbledon\", \"wireless\", \"woodward\", \"world\", \"world\", \"world\", \"world\", \"world\", \"world number\", \"yukos\", \"zealand\"]}, \"R\": 30, \"lambda.step\": 0.01, \"plot.opts\": {\"xlab\": \"PC1\", \"ylab\": \"PC2\"}, \"topic.order\": [5, 4, 2, 1, 3]};\n",
              "\n",
              "function LDAvis_load_lib(url, callback){\n",
              "  var s = document.createElement('script');\n",
              "  s.src = url;\n",
              "  s.async = true;\n",
              "  s.onreadystatechange = s.onload = callback;\n",
              "  s.onerror = function(){console.warn(\"failed to load library \" + url);};\n",
              "  document.getElementsByTagName(\"head\")[0].appendChild(s);\n",
              "}\n",
              "\n",
              "if(typeof(LDAvis) !== \"undefined\"){\n",
              "   // already loaded: just create the visualization\n",
              "   !function(LDAvis){\n",
              "       new LDAvis(\"#\" + \"ldavis_el96962544093522848772250429\", ldavis_el96962544093522848772250429_data);\n",
              "   }(LDAvis);\n",
              "}else if(typeof define === \"function\" && define.amd){\n",
              "   // require.js is available: use it to load d3/LDAvis\n",
              "   require.config({paths: {d3: \"https://d3js.org/d3.v5\"}});\n",
              "   require([\"d3\"], function(d3){\n",
              "      window.d3 = d3;\n",
              "      LDAvis_load_lib(\"https://cdn.jsdelivr.net/gh/bmabey/pyLDAvis@3.3.1/pyLDAvis/js/ldavis.v3.0.0.js\", function(){\n",
              "        new LDAvis(\"#\" + \"ldavis_el96962544093522848772250429\", ldavis_el96962544093522848772250429_data);\n",
              "      });\n",
              "    });\n",
              "}else{\n",
              "    // require.js not available: dynamically load d3 & LDAvis\n",
              "    LDAvis_load_lib(\"https://d3js.org/d3.v5.js\", function(){\n",
              "         LDAvis_load_lib(\"https://cdn.jsdelivr.net/gh/bmabey/pyLDAvis@3.3.1/pyLDAvis/js/ldavis.v3.0.0.js\", function(){\n",
              "                 new LDAvis(\"#\" + \"ldavis_el96962544093522848772250429\", ldavis_el96962544093522848772250429_data);\n",
              "            })\n",
              "         });\n",
              "}\n",
              "</script>"
            ],
            "text/plain": [
              "PreparedData(topic_coordinates=                x           y  topics  cluster       Freq\n",
              "topic                                                    \n",
              "4      150.222153  -72.269554       1        1  32.417649\n",
              "3       51.163364 -159.968018       2        1  24.056435\n",
              "1      -73.144554   21.523815       3        1  17.268919\n",
              "0      -66.410133 -110.606438       4        1  17.154340\n",
              "2       54.417324   12.443444       5        1   9.102656, topic_info=          Term       Freq      Total Category  logprob  loglift\n",
              "1791      film  31.000000  31.000000  Default  30.0000  30.0000\n",
              "315      award  19.000000  19.000000  Default  29.0000  29.0000\n",
              "2785    labour  23.000000  23.000000  Default  28.0000  28.0000\n",
              "1525  election  22.000000  22.000000  Default  27.0000  27.0000\n",
              "3254    mobile  15.000000  15.000000  Default  26.0000  26.0000\n",
              "...        ...        ...        ...      ...      ...      ...\n",
              "4615      side   3.320277  12.022552   Topic5  -6.0412   1.1099\n",
              "4768     squad   2.818055   6.178134   Topic5  -6.2052   1.6116\n",
              "1142       cup   3.189551  12.971573   Topic5  -6.0814   0.9937\n",
              "726   champion   3.137016  12.594853   Topic5  -6.0980   1.0066\n",
              "5581     world   3.051998  24.694734   Topic5  -6.1255   0.3058\n",
              "\n",
              "[292 rows x 6 columns], token_table=      Topic      Freq          Term\n",
              "term                               \n",
              "39        3  0.920071         actor\n",
              "41        3  0.873920       actress\n",
              "78        5  0.660901        agassi\n",
              "99        1  0.903053       airline\n",
              "109       3  0.864226         album\n",
              "...     ...       ...           ...\n",
              "5581      4  0.121483         world\n",
              "5581      5  0.121483         world\n",
              "5592      5  0.800859  world number\n",
              "5638      1  0.881069         yukos\n",
              "5640      5  0.802650       zealand\n",
              "\n",
              "[460 rows x 3 columns], R=30, lambda_step=0.01, plot_opts={'xlab': 'PC1', 'ylab': 'PC2'}, topic_order=[5, 4, 2, 1, 3])"
            ]
          },
          "metadata": {
            "tags": []
          },
          "execution_count": 63
        }
      ]
    },
    {
      "cell_type": "markdown",
      "metadata": {
        "id": "SH6OIAM-PMGP"
      },
      "source": [
        "## <b>Discussing our LDA visualisation chart:</b>\n",
        "* The white bars define the overall term frequency of a particular token\n",
        "\n",
        "* The red bars define the estimated term frequency of a particular token\n",
        "\n",
        "* In each topic, the top 30 most relevant tokens have been used for visualization\n",
        "\n",
        "* The relevance metric (lambda) when equal to 1, the terms are arranged according to their probability in a particular topic. Lambda when equal to zero, the tokens get arranged in the decreasing order of their respective lifts.\n",
        "\n",
        "* Lift: ratio of a term’s probability to it’s marginal probability in the entire corpus\n",
        "\n",
        "* We have used T-SNE as a dimensionality reduction technique to visualise the clusters form in a 2-dimensional feature space\n"
      ]
    },
    {
      "cell_type": "markdown",
      "metadata": {
        "id": "yEXf_ly1PMGP"
      },
      "source": [
        "## <b>Conclusion:</b>"
      ]
    },
    {
      "cell_type": "markdown",
      "metadata": {
        "id": "yeQpT-6MPMGQ"
      },
      "source": [
        "* Out of the five major themes/topics that had been provided to us, our LDA (Latent Dirichlet Allocation) has correctly clustered most of the terms corresponding to a topic\n",
        "\n",
        "* Business and Political articles constitute about 56% of the overall tokens and the rest three topics correspond to the remaining 44%\n",
        "\n",
        "* Our LDA model works best at relevance level 0.6, correctly classifying almost 85% of the tokens in their respective clusters\n",
        "\n",
        "* Adjusted the hyper-parameters doc_topic_prior and topic_word_prior, but for 5 topics, both corresponding to None gave the best results\n",
        "\n"
      ]
    },
    {
      "cell_type": "code",
      "metadata": {
        "id": "dNzH1uHaPMGQ"
      },
      "source": [
        ""
      ],
      "execution_count": null,
      "outputs": []
    }
  ]
}